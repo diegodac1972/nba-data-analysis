{
 "cells": [
  {
   "cell_type": "markdown",
   "metadata": {},
   "source": [
    "### __Indice__\n",
    "- [1.0 Importando librerias](#1.0-Importando-librerias) <font color=green>--> Ok</font>  \n",
    "- [2.0 Carga del dataset](#2.0-Carga-del-dataset) <font color=green>--> Ok</font>  \n",
    "- [3.0 Análisis exploratoria de los datos](#3.0-Análisis-exploratoria-de-los-datos) <font color=green>--> Ok</font>  \n",
    "    - [3.1 Eliminando columnas desnecesarias](#3.1-Eliminando-columnas-desnecesarias) <font color=green>--> Ok</font>  \n",
    "    - [3.2 Limpiando las features](#3.2-Limpiando-las-features) <font color=green>--> Ok</font>  \n",
    "    - [3.3 Conociendo las features](#3.3-Conociendo-las-features) <font color=green>--> Ok</font>  \n",
    "    - [3.4 Consolidando el tiempo](#3.4-Consolidando-el-tiempo) <font color=green>--> Ok</font>  \n",
    "    - [3.5 Analisando la correlación entre las variables](#3.5-Analisando-la-correlación-entre-las-variables) <font color=green>--> Ok</font>  \n",
    "- [4.0 Completando el dataset con información de la NBA_API](#4.0-Completando-el-dataset-con-información-de-la-NBA_API) <font color=green>--> Ok</font>  \n",
    "    - [4.1 Información de los jugadores](#4.1-Información-de-los-jugadores)  <font color=green>--> Ok</font>\n",
    "    - [4.2 Información de los partidos](#4.2-Información-de-los-partidos) <font color=green>--> Ok</font>  \n",
    "    - [4.3 Información de los equipos](#4.3-Información-de-los-equipos) <font color=green>--> Ok</font>  \n",
    "- [5.0 Transformando las dummies](#5.0-Transformando-las-dummies) <font color=green>--> Ok</font>  \n",
    "    - [5.1 Equipos](#5.1-Equipos) <font color=green>--> Ok</font>  \n",
    "    - [5.2 Estilos de tiro](#5.2-Estilos-de-tiro) <font color=green>--> Ok</font>  \n",
    "    - [5.3 Puntos por tiro](#5.3-Puntos-por-tiro) <font color=green>--> Ok</font>  \n",
    "- [6.0 Finalizando el dataset](#6.0-Finalizando-el-dataset) <font color=green>--> Ok</font>  \n",
    "    - [6.1 Limpiando columnas y lineas](#6.1-Limpiando-columnas-y-lineas) <font color=green>--> Ok</font>  \n",
    "    - [6.1 Last check](#6.2-Last-check) <font color=green>--> Ok</font>  \n",
    "    - [6.2 Exportando el dataset a un nuevo CSV](#6.3-Exportando-el-dataset-a-un-nuevo-CSV) <font color=green>--> Ok</font>  \n",
    "***"
   ]
  },
  {
   "cell_type": "markdown",
   "metadata": {},
   "source": [
    "# Desafío 3 - NBA (Parte 1: Dataset)\n",
    "Predecir si un es un \"shot made\" (45%) o \"shot missed\" (55%) en la temporada 2104-15, considerando 30 equipos, ~500 jugadores, ~1.200 partidos y ~220.000 tiros"
   ]
  },
  {
   "cell_type": "markdown",
   "metadata": {},
   "source": [
    "## 1.0 Importando librerias"
   ]
  },
  {
   "cell_type": "code",
   "execution_count": null,
   "metadata": {},
   "outputs": [],
   "source": [
    "#Instalando librerías adicionales\n",
    "!pip install pandas-profiling"
   ]
  },
  {
   "cell_type": "code",
   "execution_count": 2,
   "metadata": {},
   "outputs": [
    {
     "name": "stdout",
     "output_type": "stream",
     "text": [
      "Requirement already satisfied: nba_api in /anaconda3/lib/python3.7/site-packages (1.1.4)\n",
      "Requirement already satisfied: requests in /anaconda3/lib/python3.7/site-packages (from nba_api) (2.21.0)\n",
      "Requirement already satisfied: certifi>=2017.4.17 in /anaconda3/lib/python3.7/site-packages (from requests->nba_api) (2018.11.29)\n",
      "Requirement already satisfied: urllib3<1.25,>=1.21.1 in /anaconda3/lib/python3.7/site-packages (from requests->nba_api) (1.24.1)\n",
      "Requirement already satisfied: chardet<3.1.0,>=3.0.2 in /anaconda3/lib/python3.7/site-packages (from requests->nba_api) (3.0.4)\n",
      "Requirement already satisfied: idna<2.9,>=2.5 in /anaconda3/lib/python3.7/site-packages (from requests->nba_api) (2.8)\n",
      "\u001b[33mYou are using pip version 19.0.1, however version 19.1.1 is available.\n",
      "You should consider upgrading via the 'pip install --upgrade pip' command.\u001b[0m\n"
     ]
    }
   ],
   "source": [
    "#Instalando librerías nba_api\n",
    "!pip install nba_api"
   ]
  },
  {
   "cell_type": "code",
   "execution_count": 2,
   "metadata": {},
   "outputs": [],
   "source": [
    "#Eliminando warnings\n",
    "def warn(*args, **kwargs):\n",
    "    pass\n",
    "import warnings\n",
    "warnings.warn = warn"
   ]
  },
  {
   "cell_type": "code",
   "execution_count": 3,
   "metadata": {},
   "outputs": [],
   "source": [
    "#Importar librerías\n",
    "\n",
    "import numpy as np\n",
    "import pandas as pd\n",
    "import seaborn as sns\n",
    "import matplotlib.pyplot as plt\n",
    "%matplotlib inline\n",
    "\n",
    "from datetime import datetime\n",
    "\n",
    "import pandas_profiling\n",
    "\n",
    "import re\n",
    "\n",
    "from nba_api.stats.static import teams\n",
    "from nba_api.stats.static import players\n",
    "from nba_api.stats.endpoints import commonplayerinfo\n",
    "from nba_api.stats.endpoints import shotchartdetail\n",
    "from nba_api.stats.endpoints import leaguegamefinder\n",
    "from nba_api.stats.endpoints import teamdashboardbyteamperformance"
   ]
  },
  {
   "cell_type": "markdown",
   "metadata": {},
   "source": [
    "## 2.0 Carga del dataset"
   ]
  },
  {
   "cell_type": "code",
   "execution_count": 4,
   "metadata": {},
   "outputs": [],
   "source": [
    "df = pd.read_csv(\"nba_savant.csv\")"
   ]
  },
  {
   "cell_type": "code",
   "execution_count": 5,
   "metadata": {
    "scrolled": true
   },
   "outputs": [
    {
     "data": {
      "text/html": [
       "<div>\n",
       "<style scoped>\n",
       "    .dataframe tbody tr th:only-of-type {\n",
       "        vertical-align: middle;\n",
       "    }\n",
       "\n",
       "    .dataframe tbody tr th {\n",
       "        vertical-align: top;\n",
       "    }\n",
       "\n",
       "    .dataframe thead th {\n",
       "        text-align: right;\n",
       "    }\n",
       "</style>\n",
       "<table border=\"1\" class=\"dataframe\">\n",
       "  <thead>\n",
       "    <tr style=\"text-align: right;\">\n",
       "      <th></th>\n",
       "      <th>name</th>\n",
       "      <th>team_name</th>\n",
       "      <th>game_date</th>\n",
       "      <th>season</th>\n",
       "      <th>espn_player_id</th>\n",
       "      <th>team_id</th>\n",
       "      <th>espn_game_id</th>\n",
       "      <th>period</th>\n",
       "      <th>minutes_remaining</th>\n",
       "      <th>seconds_remaining</th>\n",
       "      <th>...</th>\n",
       "      <th>shot_type</th>\n",
       "      <th>shot_distance</th>\n",
       "      <th>opponent</th>\n",
       "      <th>x</th>\n",
       "      <th>y</th>\n",
       "      <th>dribbles</th>\n",
       "      <th>touch_time</th>\n",
       "      <th>defender_name</th>\n",
       "      <th>defender_distance</th>\n",
       "      <th>shot_clock</th>\n",
       "    </tr>\n",
       "  </thead>\n",
       "  <tbody>\n",
       "    <tr>\n",
       "      <th>0</th>\n",
       "      <td>Al Horford</td>\n",
       "      <td>Atlanta Hawks</td>\n",
       "      <td>11/8/2014</td>\n",
       "      <td>2014</td>\n",
       "      <td>3213.0</td>\n",
       "      <td>1610612737</td>\n",
       "      <td>400578376.0</td>\n",
       "      <td>4</td>\n",
       "      <td>6</td>\n",
       "      <td>20</td>\n",
       "      <td>...</td>\n",
       "      <td>2PT Field Goal</td>\n",
       "      <td>0</td>\n",
       "      <td>New York Knicks</td>\n",
       "      <td>0</td>\n",
       "      <td>1</td>\n",
       "      <td>0</td>\n",
       "      <td>0.4</td>\n",
       "      <td>Stoudemire, Amare</td>\n",
       "      <td>0.8</td>\n",
       "      <td>0.0</td>\n",
       "    </tr>\n",
       "    <tr>\n",
       "      <th>1</th>\n",
       "      <td>Al Horford</td>\n",
       "      <td>Atlanta Hawks</td>\n",
       "      <td>2/25/2015</td>\n",
       "      <td>2014</td>\n",
       "      <td>3213.0</td>\n",
       "      <td>1610612737</td>\n",
       "      <td>400579135.0</td>\n",
       "      <td>4</td>\n",
       "      <td>8</td>\n",
       "      <td>21</td>\n",
       "      <td>...</td>\n",
       "      <td>2PT Field Goal</td>\n",
       "      <td>0</td>\n",
       "      <td>Dallas Mavericks</td>\n",
       "      <td>0</td>\n",
       "      <td>1</td>\n",
       "      <td>1</td>\n",
       "      <td>4.4</td>\n",
       "      <td>Smith, Greg</td>\n",
       "      <td>2.7</td>\n",
       "      <td>16.0</td>\n",
       "    </tr>\n",
       "    <tr>\n",
       "      <th>2</th>\n",
       "      <td>Al Horford</td>\n",
       "      <td>Atlanta Hawks</td>\n",
       "      <td>12/22/2014</td>\n",
       "      <td>2014</td>\n",
       "      <td>3213.0</td>\n",
       "      <td>1610612737</td>\n",
       "      <td>400578705.0</td>\n",
       "      <td>2</td>\n",
       "      <td>0</td>\n",
       "      <td>31</td>\n",
       "      <td>...</td>\n",
       "      <td>2PT Field Goal</td>\n",
       "      <td>0</td>\n",
       "      <td>Dallas Mavericks</td>\n",
       "      <td>0</td>\n",
       "      <td>1</td>\n",
       "      <td>0</td>\n",
       "      <td>0.2</td>\n",
       "      <td>Chandler, Tyson</td>\n",
       "      <td>3.7</td>\n",
       "      <td>20.0</td>\n",
       "    </tr>\n",
       "    <tr>\n",
       "      <th>3</th>\n",
       "      <td>Al Horford</td>\n",
       "      <td>Atlanta Hawks</td>\n",
       "      <td>5/11/2015</td>\n",
       "      <td>2014</td>\n",
       "      <td>3213.0</td>\n",
       "      <td>1610612737</td>\n",
       "      <td>400793784.0</td>\n",
       "      <td>3</td>\n",
       "      <td>1</td>\n",
       "      <td>54</td>\n",
       "      <td>...</td>\n",
       "      <td>2PT Field Goal</td>\n",
       "      <td>0</td>\n",
       "      <td>Washington Wizards</td>\n",
       "      <td>0</td>\n",
       "      <td>1</td>\n",
       "      <td>1</td>\n",
       "      <td>1.5</td>\n",
       "      <td>Gooden, Drew</td>\n",
       "      <td>6.1</td>\n",
       "      <td>24.0</td>\n",
       "    </tr>\n",
       "    <tr>\n",
       "      <th>4</th>\n",
       "      <td>Al Horford</td>\n",
       "      <td>Atlanta Hawks</td>\n",
       "      <td>2/9/2015</td>\n",
       "      <td>2014</td>\n",
       "      <td>3213.0</td>\n",
       "      <td>1610612737</td>\n",
       "      <td>400579071.0</td>\n",
       "      <td>4</td>\n",
       "      <td>8</td>\n",
       "      <td>8</td>\n",
       "      <td>...</td>\n",
       "      <td>2PT Field Goal</td>\n",
       "      <td>0</td>\n",
       "      <td>Minnesota Timberwolves</td>\n",
       "      <td>0</td>\n",
       "      <td>1</td>\n",
       "      <td>0</td>\n",
       "      <td>1.8</td>\n",
       "      <td>Rubio, Ricky</td>\n",
       "      <td>7.0</td>\n",
       "      <td>24.0</td>\n",
       "    </tr>\n",
       "    <tr>\n",
       "      <th>5</th>\n",
       "      <td>Al Horford</td>\n",
       "      <td>Atlanta Hawks</td>\n",
       "      <td>1/13/2015</td>\n",
       "      <td>2014</td>\n",
       "      <td>3213.0</td>\n",
       "      <td>1610612737</td>\n",
       "      <td>400578860.0</td>\n",
       "      <td>1</td>\n",
       "      <td>8</td>\n",
       "      <td>8</td>\n",
       "      <td>...</td>\n",
       "      <td>2PT Field Goal</td>\n",
       "      <td>0</td>\n",
       "      <td>Philadelphia 76ers</td>\n",
       "      <td>0</td>\n",
       "      <td>1</td>\n",
       "      <td>1</td>\n",
       "      <td>0.4</td>\n",
       "      <td>Noel, Nerlens</td>\n",
       "      <td>3.5</td>\n",
       "      <td>24.0</td>\n",
       "    </tr>\n",
       "    <tr>\n",
       "      <th>6</th>\n",
       "      <td>Paul Millsap</td>\n",
       "      <td>Atlanta Hawks</td>\n",
       "      <td>4/22/2015</td>\n",
       "      <td>2014</td>\n",
       "      <td>3015.0</td>\n",
       "      <td>1610612737</td>\n",
       "      <td>400790922.0</td>\n",
       "      <td>1</td>\n",
       "      <td>10</td>\n",
       "      <td>23</td>\n",
       "      <td>...</td>\n",
       "      <td>2PT Field Goal</td>\n",
       "      <td>0</td>\n",
       "      <td>Brooklyn Nets</td>\n",
       "      <td>0</td>\n",
       "      <td>1</td>\n",
       "      <td>0</td>\n",
       "      <td>0.2</td>\n",
       "      <td>Lopez, Brook</td>\n",
       "      <td>9.6</td>\n",
       "      <td>0.0</td>\n",
       "    </tr>\n",
       "    <tr>\n",
       "      <th>7</th>\n",
       "      <td>Al Horford</td>\n",
       "      <td>Atlanta Hawks</td>\n",
       "      <td>4/10/2015</td>\n",
       "      <td>2014</td>\n",
       "      <td>3213.0</td>\n",
       "      <td>1610612737</td>\n",
       "      <td>400579468.0</td>\n",
       "      <td>3</td>\n",
       "      <td>9</td>\n",
       "      <td>42</td>\n",
       "      <td>...</td>\n",
       "      <td>2PT Field Goal</td>\n",
       "      <td>0</td>\n",
       "      <td>Charlotte Hornets</td>\n",
       "      <td>0</td>\n",
       "      <td>1</td>\n",
       "      <td>0</td>\n",
       "      <td>0.2</td>\n",
       "      <td>Biyombo, Bismack</td>\n",
       "      <td>3.5</td>\n",
       "      <td>13.7</td>\n",
       "    </tr>\n",
       "    <tr>\n",
       "      <th>8</th>\n",
       "      <td>Al Horford</td>\n",
       "      <td>Atlanta Hawks</td>\n",
       "      <td>3/9/2015</td>\n",
       "      <td>2014</td>\n",
       "      <td>3213.0</td>\n",
       "      <td>1610612737</td>\n",
       "      <td>400579231.0</td>\n",
       "      <td>3</td>\n",
       "      <td>9</td>\n",
       "      <td>15</td>\n",
       "      <td>...</td>\n",
       "      <td>2PT Field Goal</td>\n",
       "      <td>0</td>\n",
       "      <td>Sacramento Kings</td>\n",
       "      <td>0</td>\n",
       "      <td>1</td>\n",
       "      <td>1</td>\n",
       "      <td>1.0</td>\n",
       "      <td>McCallum, Ray</td>\n",
       "      <td>4.2</td>\n",
       "      <td>24.0</td>\n",
       "    </tr>\n",
       "    <tr>\n",
       "      <th>9</th>\n",
       "      <td>Paul Millsap</td>\n",
       "      <td>Atlanta Hawks</td>\n",
       "      <td>3/25/2015</td>\n",
       "      <td>2014</td>\n",
       "      <td>3015.0</td>\n",
       "      <td>1610612737</td>\n",
       "      <td>400579354.0</td>\n",
       "      <td>4</td>\n",
       "      <td>5</td>\n",
       "      <td>6</td>\n",
       "      <td>...</td>\n",
       "      <td>2PT Field Goal</td>\n",
       "      <td>0</td>\n",
       "      <td>Orlando Magic</td>\n",
       "      <td>0</td>\n",
       "      <td>1</td>\n",
       "      <td>0</td>\n",
       "      <td>0.0</td>\n",
       "      <td>NaN</td>\n",
       "      <td>0.0</td>\n",
       "      <td>0.0</td>\n",
       "    </tr>\n",
       "  </tbody>\n",
       "</table>\n",
       "<p>10 rows × 22 columns</p>\n",
       "</div>"
      ],
      "text/plain": [
       "           name      team_name   game_date  season  espn_player_id  \\\n",
       "0    Al Horford  Atlanta Hawks   11/8/2014    2014          3213.0   \n",
       "1    Al Horford  Atlanta Hawks   2/25/2015    2014          3213.0   \n",
       "2    Al Horford  Atlanta Hawks  12/22/2014    2014          3213.0   \n",
       "3    Al Horford  Atlanta Hawks   5/11/2015    2014          3213.0   \n",
       "4    Al Horford  Atlanta Hawks    2/9/2015    2014          3213.0   \n",
       "5    Al Horford  Atlanta Hawks   1/13/2015    2014          3213.0   \n",
       "6  Paul Millsap  Atlanta Hawks   4/22/2015    2014          3015.0   \n",
       "7    Al Horford  Atlanta Hawks   4/10/2015    2014          3213.0   \n",
       "8    Al Horford  Atlanta Hawks    3/9/2015    2014          3213.0   \n",
       "9  Paul Millsap  Atlanta Hawks   3/25/2015    2014          3015.0   \n",
       "\n",
       "      team_id  espn_game_id  period  minutes_remaining  seconds_remaining  \\\n",
       "0  1610612737   400578376.0       4                  6                 20   \n",
       "1  1610612737   400579135.0       4                  8                 21   \n",
       "2  1610612737   400578705.0       2                  0                 31   \n",
       "3  1610612737   400793784.0       3                  1                 54   \n",
       "4  1610612737   400579071.0       4                  8                  8   \n",
       "5  1610612737   400578860.0       1                  8                  8   \n",
       "6  1610612737   400790922.0       1                 10                 23   \n",
       "7  1610612737   400579468.0       3                  9                 42   \n",
       "8  1610612737   400579231.0       3                  9                 15   \n",
       "9  1610612737   400579354.0       4                  5                  6   \n",
       "\n",
       "     ...           shot_type shot_distance                opponent  x  y  \\\n",
       "0    ...      2PT Field Goal             0         New York Knicks  0  1   \n",
       "1    ...      2PT Field Goal             0        Dallas Mavericks  0  1   \n",
       "2    ...      2PT Field Goal             0        Dallas Mavericks  0  1   \n",
       "3    ...      2PT Field Goal             0      Washington Wizards  0  1   \n",
       "4    ...      2PT Field Goal             0  Minnesota Timberwolves  0  1   \n",
       "5    ...      2PT Field Goal             0      Philadelphia 76ers  0  1   \n",
       "6    ...      2PT Field Goal             0           Brooklyn Nets  0  1   \n",
       "7    ...      2PT Field Goal             0       Charlotte Hornets  0  1   \n",
       "8    ...      2PT Field Goal             0        Sacramento Kings  0  1   \n",
       "9    ...      2PT Field Goal             0           Orlando Magic  0  1   \n",
       "\n",
       "   dribbles  touch_time      defender_name  defender_distance shot_clock  \n",
       "0         0         0.4  Stoudemire, Amare                0.8        0.0  \n",
       "1         1         4.4        Smith, Greg                2.7       16.0  \n",
       "2         0         0.2    Chandler, Tyson                3.7       20.0  \n",
       "3         1         1.5       Gooden, Drew                6.1       24.0  \n",
       "4         0         1.8       Rubio, Ricky                7.0       24.0  \n",
       "5         1         0.4      Noel, Nerlens                3.5       24.0  \n",
       "6         0         0.2       Lopez, Brook                9.6        0.0  \n",
       "7         0         0.2   Biyombo, Bismack                3.5       13.7  \n",
       "8         1         1.0      McCallum, Ray                4.2       24.0  \n",
       "9         0         0.0                NaN                0.0        0.0  \n",
       "\n",
       "[10 rows x 22 columns]"
      ]
     },
     "execution_count": 5,
     "metadata": {},
     "output_type": "execute_result"
    }
   ],
   "source": [
    "df.head(10)"
   ]
  },
  {
   "cell_type": "code",
   "execution_count": 6,
   "metadata": {},
   "outputs": [
    {
     "data": {
      "text/plain": [
       "(219240, 22)"
      ]
     },
     "execution_count": 6,
     "metadata": {},
     "output_type": "execute_result"
    }
   ],
   "source": [
    "df.shape"
   ]
  },
  {
   "cell_type": "markdown",
   "metadata": {},
   "source": [
    "## 3.0 Análisis exploratoria de los datos"
   ]
  },
  {
   "cell_type": "code",
   "execution_count": 7,
   "metadata": {},
   "outputs": [
    {
     "name": "stdout",
     "output_type": "stream",
     "text": [
      "<class 'pandas.core.frame.DataFrame'>\n",
      "RangeIndex: 219240 entries, 0 to 219239\n",
      "Data columns (total 22 columns):\n",
      "name                 219240 non-null object\n",
      "team_name            219240 non-null object\n",
      "game_date            219240 non-null object\n",
      "season               219240 non-null int64\n",
      "espn_player_id       215313 non-null float64\n",
      "team_id              219240 non-null int64\n",
      "espn_game_id         217194 non-null float64\n",
      "period               219240 non-null int64\n",
      "minutes_remaining    219240 non-null int64\n",
      "seconds_remaining    219240 non-null int64\n",
      "shot_made_flag       219240 non-null int64\n",
      "action_type          219240 non-null object\n",
      "shot_type            219240 non-null object\n",
      "shot_distance        219240 non-null int64\n",
      "opponent             219240 non-null object\n",
      "x                    219240 non-null int64\n",
      "y                    219240 non-null int64\n",
      "dribbles             219240 non-null int64\n",
      "touch_time           219240 non-null float64\n",
      "defender_name        217140 non-null object\n",
      "defender_distance    219240 non-null float64\n",
      "shot_clock           219240 non-null float64\n",
      "dtypes: float64(5), int64(10), object(7)\n",
      "memory usage: 36.8+ MB\n"
     ]
    }
   ],
   "source": [
    "df.info()"
   ]
  },
  {
   "cell_type": "markdown",
   "metadata": {},
   "source": [
    "### 3.1 Eliminando columnas que no vamos a utilizar"
   ]
  },
  {
   "cell_type": "code",
   "execution_count": 8,
   "metadata": {},
   "outputs": [
    {
     "name": "stdout",
     "output_type": "stream",
     "text": [
      "(219240, 22) \n",
      "\n",
      "Index(['name', 'team_name', 'game_date', 'season', 'espn_player_id', 'team_id',\n",
      "       'espn_game_id', 'period', 'minutes_remaining', 'seconds_remaining',\n",
      "       'shot_made_flag', 'action_type', 'shot_type', 'shot_distance',\n",
      "       'opponent', 'x', 'y', 'dribbles', 'touch_time', 'defender_name',\n",
      "       'defender_distance', 'shot_clock'],\n",
      "      dtype='object')\n"
     ]
    }
   ],
   "source": [
    "print (df.shape, '\\n')\n",
    "print (df.columns)"
   ]
  },
  {
   "cell_type": "code",
   "execution_count": 9,
   "metadata": {},
   "outputs": [],
   "source": [
    "df.drop(['season','espn_player_id', 'espn_game_id'], axis=1, inplace=True)"
   ]
  },
  {
   "cell_type": "code",
   "execution_count": 10,
   "metadata": {},
   "outputs": [
    {
     "data": {
      "text/plain": [
       "(219240, 19)"
      ]
     },
     "execution_count": 10,
     "metadata": {},
     "output_type": "execute_result"
    }
   ],
   "source": [
    "df.shape"
   ]
  },
  {
   "cell_type": "markdown",
   "metadata": {},
   "source": [
    "### 3.2 Limpiando las features"
   ]
  },
  {
   "cell_type": "code",
   "execution_count": 11,
   "metadata": {},
   "outputs": [
    {
     "data": {
      "text/plain": [
       "name                    0\n",
       "team_name               0\n",
       "game_date               0\n",
       "team_id                 0\n",
       "period                  0\n",
       "minutes_remaining       0\n",
       "seconds_remaining       0\n",
       "shot_made_flag          0\n",
       "action_type             0\n",
       "shot_type               0\n",
       "shot_distance           0\n",
       "opponent                0\n",
       "x                       0\n",
       "y                       0\n",
       "dribbles                0\n",
       "touch_time              0\n",
       "defender_name        2100\n",
       "defender_distance       0\n",
       "shot_clock              0\n",
       "dtype: int64"
      ]
     },
     "execution_count": 11,
     "metadata": {},
     "output_type": "execute_result"
    }
   ],
   "source": [
    "df.isnull().sum()"
   ]
  },
  {
   "cell_type": "code",
   "execution_count": 12,
   "metadata": {},
   "outputs": [],
   "source": [
    "df['period'][df['period']<1] = np.nan\n",
    "df['minutes_remaining'][df['minutes_remaining']<0] = np.nan\n",
    "df['minutes_remaining'][df['minutes_remaining']>12] = np.nan\n",
    "df['seconds_remaining'][df['seconds_remaining']<0] = np.nan\n",
    "df['seconds_remaining'][df['seconds_remaining']>60] = np.nan\n",
    "df['shot_distance'][df['shot_distance']<0] = np.nan\n",
    "df['x'][df['x']<-255] = np.nan\n",
    "df['x'][df['x']>+255] = np.nan\n",
    "df['y'][df['y']<-55] = np.nan\n",
    "df['y'][df['y']>+855] = np.nan\n",
    "df['dribbles'][df['dribbles']<0] = np.nan\n",
    "df['touch_time'][df['touch_time']<0] = np.nan\n",
    "df['touch_time'][df['touch_time']>24] = np.nan\n",
    "df['defender_distance'][df['defender_distance']<0] = np.nan\n",
    "df['shot_clock'][df['shot_clock']<0] = np.nan\n",
    "df['shot_clock'][df['shot_clock']>24] = np.nan"
   ]
  },
  {
   "cell_type": "code",
   "execution_count": 13,
   "metadata": {},
   "outputs": [
    {
     "data": {
      "text/plain": [
       "name                    0\n",
       "team_name               0\n",
       "game_date               0\n",
       "team_id                 0\n",
       "period                  0\n",
       "minutes_remaining       0\n",
       "seconds_remaining       0\n",
       "shot_made_flag          0\n",
       "action_type             0\n",
       "shot_type               0\n",
       "shot_distance           0\n",
       "opponent                0\n",
       "x                       0\n",
       "y                       0\n",
       "dribbles                0\n",
       "touch_time            476\n",
       "defender_name        2100\n",
       "defender_distance       0\n",
       "shot_clock              0\n",
       "dtype: int64"
      ]
     },
     "execution_count": 13,
     "metadata": {},
     "output_type": "execute_result"
    }
   ],
   "source": [
    "df.isnull().sum()"
   ]
  },
  {
   "cell_type": "code",
   "execution_count": 14,
   "metadata": {},
   "outputs": [
    {
     "data": {
      "text/plain": [
       "(216664, 19)"
      ]
     },
     "execution_count": 14,
     "metadata": {},
     "output_type": "execute_result"
    }
   ],
   "source": [
    "df = df.dropna(axis = 0, how = 'any')\n",
    "df.shape"
   ]
  },
  {
   "cell_type": "markdown",
   "metadata": {},
   "source": [
    "### 3.3 Conociendo las features"
   ]
  },
  {
   "cell_type": "code",
   "execution_count": 15,
   "metadata": {},
   "outputs": [
    {
     "name": "stdout",
     "output_type": "stream",
     "text": [
      "Jugadores \n",
      " LeBron James           1804\n",
      "Stephen Curry          1760\n",
      "James Harden           1736\n",
      "Klay Thompson          1620\n",
      "LaMarcus Aldridge      1516\n",
      "Monta Ellis            1464\n",
      "Damian Lillard         1451\n",
      "Russell Westbrook      1446\n",
      "Kyrie Irving           1395\n",
      "Blake Griffin          1388\n",
      "Chris Paul             1347\n",
      "John Wall              1268\n",
      "Pau Gasol              1260\n",
      "Anthony Davis          1256\n",
      "Marc Gasol             1250\n",
      "Nikola Vucevic         1196\n",
      "Tyreke Evans           1195\n",
      "Josh Smith             1178\n",
      "Al Horford             1163\n",
      "Dirk Nowitzki          1146\n",
      "Paul Millsap           1133\n",
      "Jimmy Butler           1122\n",
      "Joe Johnson            1119\n",
      "Jeff Teague            1110\n",
      "Andrew Wiggins         1105\n",
      "Kyle Lowry             1098\n",
      "Rudy Gay               1097\n",
      "Zach Randolph          1095\n",
      "JJ Redick              1083\n",
      "Gordon Hayward         1083\n",
      "                       ... \n",
      "Shannon Brown            19\n",
      "Will Cherry              19\n",
      "Drew Gordon              19\n",
      "Glen Rice Jr             15\n",
      "Cameron Bairstow         14\n",
      "Xavier Henry             13\n",
      "Ognjen Kuzmic            12\n",
      "Patrick Christopher      12\n",
      "Bruno Caboclo            12\n",
      "Arinze Onuaku            11\n",
      "Louis Williams           11\n",
      "Jerel McNeal             10\n",
      "Greg Stiemsma            10\n",
      "Miroslav Raduljica        8\n",
      "Lucas Nogueira            8\n",
      "Darius Miller             7\n",
      "Andre Dawkins             6\n",
      "Toure Murry               5\n",
      "Andrei Kirilenko          5\n",
      "Alex Kirk                 4\n",
      "David Stockton            3\n",
      "Julius Randle             3\n",
      "Seth Curry                3\n",
      "Sim Bhullar               2\n",
      "Jamaal Franklin           2\n",
      "David Wear                2\n",
      "Kalin Lucas               1\n",
      "Malcolm Lee               1\n",
      "Tyrus Thomas              1\n",
      "Eric Moreland             1\n",
      "Name: name, Length: 490, dtype: int64 \n",
      "\n",
      "Equipo \n",
      " Golden State Warriors     8784\n",
      "Cleveland Cavaliers       8287\n",
      "Houston Rockets           8121\n",
      "Atlanta Hawks             7957\n",
      "Los Angeles Clippers      7908\n",
      "Chicago Bulls             7752\n",
      "Memphis Grizzlies         7630\n",
      "Washington Wizards        7593\n",
      "Boston Celtics            7509\n",
      "Dallas Mavericks          7479\n",
      "Portland Trail Blazers    7428\n",
      "San Antonio Spurs         7323\n",
      "Brooklyn Nets             7278\n",
      "Toronto Raptors           7150\n",
      "Denver Nuggets            7120\n",
      "Milwaukee Bucks           7111\n",
      "Detroit Pistons           7016\n",
      "New Orleans Pelicans      7011\n",
      "Oklahoma City Thunder     6980\n",
      "Phoenix Suns              6920\n",
      "Los Angeles Lakers        6911\n",
      "Charlotte Hornets         6819\n",
      "Indiana Pacers            6791\n",
      "Orlando Magic             6757\n",
      "Philadelphia 76ers        6741\n",
      "Minnesota Timberwolves    6627\n",
      "New York Knicks           6603\n",
      "Sacramento Kings          6480\n",
      "Utah Jazz                 6451\n",
      "Miami Heat                6127\n",
      "Name: team_name, dtype: int64 \n",
      "\n",
      "Fechas partidos \n",
      " 2/27/2015     2388\n",
      "4/15/2015     2355\n",
      "2/20/2015     2196\n",
      "3/4/2015      2192\n",
      "1/7/2015      2176\n",
      "3/27/2015     2171\n",
      "11/26/2014    2143\n",
      "1/16/2015     2136\n",
      "4/8/2015      2133\n",
      "3/25/2015     2126\n",
      "3/20/2015     2042\n",
      "1/21/2015     2041\n",
      "4/1/2015      2040\n",
      "4/10/2015     2027\n",
      "4/13/2015     2027\n",
      "11/28/2014    2024\n",
      "3/6/2015      2018\n",
      "12/12/2014    1991\n",
      "2/25/2015     1985\n",
      "2/6/2015      1978\n",
      "12/5/2014     1972\n",
      "11/21/2014    1970\n",
      "1/19/2015     1966\n",
      "2/11/2015     1956\n",
      "11/5/2014     1947\n",
      "10/29/2014    1939\n",
      "11/1/2014     1909\n",
      "12/26/2014    1903\n",
      "12/23/2014    1878\n",
      "1/2/2015      1868\n",
      "              ... \n",
      "5/6/2015       325\n",
      "11/6/2014      324\n",
      "5/10/2015      324\n",
      "5/5/2015       324\n",
      "1/15/2015      320\n",
      "1/20/2015      320\n",
      "2/1/2015       317\n",
      "5/9/2015       315\n",
      "11/20/2014     302\n",
      "5/24/2015      185\n",
      "5/23/2015      180\n",
      "6/4/2015       180\n",
      "5/19/2015      178\n",
      "2/12/2015      177\n",
      "4/6/2015       176\n",
      "5/25/2015      173\n",
      "6/7/2015       173\n",
      "5/26/2015      172\n",
      "5/1/2015       170\n",
      "5/17/2015      170\n",
      "6/16/2015      167\n",
      "5/27/2015      165\n",
      "6/9/2015       165\n",
      "6/11/2015      164\n",
      "5/2/2015       164\n",
      "5/21/2015      161\n",
      "5/20/2015      161\n",
      "6/14/2015      156\n",
      "5/22/2015      155\n",
      "3/26/2015      142\n",
      "Name: game_date, Length: 204, dtype: int64 \n",
      "\n",
      "Tiros \n",
      " Jump Shot                         113615\n",
      "Layup Shot                         27150\n",
      "Driving Layup Shot                 12715\n",
      "Pullup Jump shot                    7907\n",
      "Tip Shot                            4363\n",
      "Hook Shot                           3989\n",
      "Dunk Shot                           3865\n",
      "Running Jump Shot                   3640\n",
      "Step Back Jump shot                 3317\n",
      "Floating Jump shot                  3257\n",
      "Turnaround Jump Shot                3207\n",
      "Fadeaway Jump Shot                  2744\n",
      "Reverse Layup Shot                  2308\n",
      "Driving Jump shot                   1789\n",
      "Jump Bank Shot                      1727\n",
      "Slam Dunk Shot                      1719\n",
      "Running Layup Shot                  1550\n",
      "Jump Hook Shot                      1519\n",
      "Alley Oop Dunk Shot                 1488\n",
      "Putback Layup Shot                  1425\n",
      "Driving Finger Roll Layup Shot      1335\n",
      "Turnaround Fadeaway shot            1330\n",
      "Turnaround Hook Shot                1236\n",
      "Driving Reverse Layup Shot          1161\n",
      "Driving Dunk Shot                   1007\n",
      "Running Bank shot                    982\n",
      "Running Hook Shot                    810\n",
      "Alley Oop Layup shot                 734\n",
      "Driving Slam Dunk Shot               686\n",
      "Putback Dunk Shot                    638\n",
      "Finger Roll Layup Shot               589\n",
      "Driving Bank shot                    423\n",
      "Driving Hook Shot                    375\n",
      "Turnaround Bank shot                 334\n",
      "Running Dunk Shot                    246\n",
      "Running Slam Dunk Shot               213\n",
      "Putback Slam Dunk Shot               177\n",
      "Running Finger Roll Layup Shot       162\n",
      "Running Reverse Layup Shot           154\n",
      "Pullup Bank shot                     131\n",
      "Reverse Dunk Shot                    126\n",
      "Hook Bank Shot                       117\n",
      "Fadeaway Bank shot                   113\n",
      "Turnaround Bank Hook Shot             92\n",
      "Running Tip Shot                      70\n",
      "Reverse Slam Dunk Shot                41\n",
      "Running Bank Hook Shot                31\n",
      "Driving Bank Hook Shot                29\n",
      "Jump Bank Hook Shot                   28\n",
      "Name: action_type, dtype: int64 \n",
      "\n",
      "Tipo de tiros \n",
      " 2PT Field Goal    158009\n",
      "3PT Field Goal     58655\n",
      "Name: shot_type, dtype: int64 \n",
      "\n",
      "Equipo adversario \n",
      " Golden State Warriors     8709\n",
      "Cleveland Cavaliers       8383\n",
      "Houston Rockets           8366\n",
      "Atlanta Hawks             8059\n",
      "Chicago Bulls             8053\n",
      "Los Angeles Clippers      7805\n",
      "Washington Wizards        7664\n",
      "Memphis Grizzlies         7546\n",
      "Portland Trail Blazers    7514\n",
      "Brooklyn Nets             7391\n",
      "Dallas Mavericks          7333\n",
      "San Antonio Spurs         7331\n",
      "Boston Celtics            7216\n",
      "Milwaukee Bucks           7078\n",
      "Toronto Raptors           7076\n",
      "New Orleans Pelicans      7029\n",
      "Sacramento Kings          6984\n",
      "Oklahoma City Thunder     6881\n",
      "Denver Nuggets            6876\n",
      "Phoenix Suns              6854\n",
      "Detroit Pistons           6790\n",
      "Charlotte Hornets         6766\n",
      "Philadelphia 76ers        6749\n",
      "Indiana Pacers            6747\n",
      "Minnesota Timberwolves    6740\n",
      "Los Angeles Lakers        6691\n",
      "Orlando Magic             6691\n",
      "Utah Jazz                 6530\n",
      "New York Knicks           6489\n",
      "Miami Heat                6323\n",
      "Name: opponent, dtype: int64 \n",
      "\n",
      "Defensor \n",
      " Green, Draymond           1468\n",
      "Jordan, DeAndre           1382\n",
      "Mozgov, Timofey           1314\n",
      "Millsap, Paul             1258\n",
      "Gasol, Pau                1232\n",
      "Gortat, Marcin            1230\n",
      "Smith, Josh               1209\n",
      "Thompson, Tristan         1207\n",
      "Harden, James             1184\n",
      "Chandler, Tyson           1172\n",
      "Gasol, Marc               1124\n",
      "Lopez, Brook              1112\n",
      "Griffin, Blake            1093\n",
      "Duncan, Tim               1076\n",
      "Horford, Al               1074\n",
      "Aldridge, LaMarcus        1059\n",
      "Noah, Joakim              1049\n",
      "Love, Kevin               1039\n",
      "Korver, Kyle              1036\n",
      "Vucevic, Nikola           1031\n",
      "Davis, Anthony            1028\n",
      "Wiggins, Andrew           1026\n",
      "Drummond, Andre           1018\n",
      "Bledsoe, Eric             1001\n",
      "Thompson, Klay             987\n",
      "Barnes, Matt               981\n",
      "Ibaka, Serge               980\n",
      "Carroll, DeMarre           977\n",
      "Curry, Stephen             974\n",
      "Irving, Kyrie              964\n",
      "                          ... \n",
      "Claver, Victor              19\n",
      "Dragic, Zoran               18\n",
      "Onuaku, Arinze              18\n",
      "Douglas-Roberts, Chris      17\n",
      "Jerrett, Grant              16\n",
      "Smith, Russ                 16\n",
      "Kilpatrick, Sean            15\n",
      "Mekel, Gal                  13\n",
      "Miller, Darius              12\n",
      "Rice Jr., Glen              12\n",
      "Kirilenko, Andrei           10\n",
      "Blue, Vander                10\n",
      "Christopher, Patrick         9\n",
      "Nogueira, Lucas              8\n",
      "Murry, Toure                 8\n",
      "Williams, Louis              7\n",
      "Dawkins, Andre               7\n",
      "Raduljica, Miroslav          6\n",
      "Turiaf, Ronny                5\n",
      "Franklin, Jamaal             5\n",
      "Wear, David                  4\n",
      "Caboclo, Bruno               4\n",
      "Bhullar, Sim                 3\n",
      "Lucas, Kalin                 3\n",
      "McNeal, Jerel                3\n",
      "Kirk, Alex                   3\n",
      "Thomas, Tyrus                2\n",
      "Randle, Julius               2\n",
      "Curry, Seth                  2\n",
      "Moreland, Eric               1\n",
      "Name: defender_name, Length: 496, dtype: int64 \n",
      "\n"
     ]
    }
   ],
   "source": [
    "#Variables tipo texto\n",
    "print ('Jugadores', '\\n', df.name.value_counts(), '\\n')\n",
    "print ('Equipo', '\\n', df.team_name.value_counts(), '\\n')\n",
    "print ('Fechas partidos', '\\n', df.game_date.value_counts(), '\\n')\n",
    "print ('Tiros', '\\n', df.action_type.value_counts(), '\\n')\n",
    "print ('Tipo de tiros', '\\n', df.shot_type.value_counts(), '\\n')\n",
    "print ('Equipo adversario', '\\n', df.opponent.value_counts(), '\\n')\n",
    "print ('Defensor', '\\n', df.defender_name.value_counts(), '\\n')"
   ]
  },
  {
   "cell_type": "code",
   "execution_count": 16,
   "metadata": {},
   "outputs": [
    {
     "name": "stdout",
     "output_type": "stream",
     "text": [
      "Team ID \n",
      " 1610612744    8784\n",
      "1610612739    8287\n",
      "1610612745    8121\n",
      "1610612737    7957\n",
      "1610612746    7908\n",
      "1610612741    7752\n",
      "1610612763    7630\n",
      "1610612764    7593\n",
      "1610612738    7509\n",
      "1610612742    7479\n",
      "1610612757    7428\n",
      "1610612759    7323\n",
      "1610612751    7278\n",
      "1610612761    7150\n",
      "1610612743    7120\n",
      "1610612749    7111\n",
      "1610612765    7016\n",
      "1610612740    7011\n",
      "1610612760    6980\n",
      "1610612756    6920\n",
      "1610612747    6911\n",
      "1610612766    6819\n",
      "1610612754    6791\n",
      "1610612753    6757\n",
      "1610612755    6741\n",
      "1610612750    6627\n",
      "1610612752    6603\n",
      "1610612758    6480\n",
      "1610612762    6451\n",
      "1610612748    6127\n",
      "Name: team_id, dtype: int64 \n",
      "\n",
      "Período \n",
      " 1    56267\n",
      "2    54187\n",
      "3    52895\n",
      "4    51540\n",
      "5     1430\n",
      "6      277\n",
      "7       68\n",
      "Name: period, dtype: int64 \n",
      "\n",
      "Minutos faltantes \n",
      " 0     22296\n",
      "9     18307\n",
      "1     18200\n",
      "8     18125\n",
      "10    18117\n",
      "6     18081\n",
      "7     17978\n",
      "4     17908\n",
      "3     17774\n",
      "5     17702\n",
      "2     17647\n",
      "11    14525\n",
      "12        4\n",
      "Name: minutes_remaining, dtype: int64 \n",
      "\n",
      "Segundos faltantes \n",
      " 0     6163\n",
      "1     4433\n",
      "2     3991\n",
      "44    3797\n",
      "3     3789\n",
      "45    3779\n",
      "42    3766\n",
      "43    3762\n",
      "40    3716\n",
      "41    3700\n",
      "5     3684\n",
      "29    3672\n",
      "35    3670\n",
      "32    3662\n",
      "6     3655\n",
      "38    3649\n",
      "39    3643\n",
      "37    3643\n",
      "47    3639\n",
      "28    3635\n",
      "30    3633\n",
      "46    3632\n",
      "33    3627\n",
      "26    3622\n",
      "8     3616\n",
      "36    3606\n",
      "4     3592\n",
      "21    3591\n",
      "19    3591\n",
      "27    3591\n",
      "23    3573\n",
      "31    3571\n",
      "25    3556\n",
      "13    3550\n",
      "10    3533\n",
      "15    3527\n",
      "7     3523\n",
      "34    3520\n",
      "9     3519\n",
      "24    3516\n",
      "48    3505\n",
      "12    3504\n",
      "16    3478\n",
      "20    3470\n",
      "18    3469\n",
      "22    3459\n",
      "50    3434\n",
      "11    3431\n",
      "14    3400\n",
      "56    3397\n",
      "54    3377\n",
      "17    3368\n",
      "59    3358\n",
      "49    3350\n",
      "53    3313\n",
      "52    3308\n",
      "57    3305\n",
      "55    3278\n",
      "58    3272\n",
      "51    3251\n",
      "Name: seconds_remaining, dtype: int64 \n",
      "\n",
      "Convertido o no \n",
      " 0    119509\n",
      "1     97155\n",
      "Name: shot_made_flag, dtype: int64 \n",
      "\n",
      "Distancia del tiro \n",
      " 0     23933\n",
      "1     22233\n",
      "25    17027\n",
      "24    16403\n",
      "2     16230\n",
      "23     9679\n",
      "26     7750\n",
      "18     7168\n",
      "3      7082\n",
      "17     7013\n",
      "19     6861\n",
      "16     6243\n",
      "4      5844\n",
      "5      5547\n",
      "20     5395\n",
      "6      5362\n",
      "22     5203\n",
      "15     5160\n",
      "7      4665\n",
      "14     4318\n",
      "8      3876\n",
      "13     3430\n",
      "9      3391\n",
      "12     3207\n",
      "11     3131\n",
      "21     3120\n",
      "10     3114\n",
      "27     2255\n",
      "28      698\n",
      "29      289\n",
      "      ...  \n",
      "58       16\n",
      "56       15\n",
      "59       13\n",
      "57       12\n",
      "61       10\n",
      "62       10\n",
      "63        9\n",
      "67        8\n",
      "70        7\n",
      "69        7\n",
      "75        7\n",
      "65        7\n",
      "60        7\n",
      "77        6\n",
      "78        5\n",
      "64        4\n",
      "74        4\n",
      "72        4\n",
      "79        4\n",
      "68        3\n",
      "73        3\n",
      "83        3\n",
      "81        2\n",
      "82        2\n",
      "80        2\n",
      "85        2\n",
      "76        2\n",
      "71        2\n",
      "66        2\n",
      "84        1\n",
      "Name: shot_distance, Length: 86, dtype: int64 \n",
      "\n",
      "Coordenada X \n",
      "  0      15822\n",
      " 1       3668\n",
      " 4       3031\n",
      " 2       2981\n",
      " 6       2926\n",
      "-2       2874\n",
      " 7       2688\n",
      "-4       2660\n",
      "-5       2553\n",
      " 9       2532\n",
      " 13      2507\n",
      " 15      2451\n",
      " 10      2428\n",
      "-7       2408\n",
      " 12      2399\n",
      " 17      2277\n",
      "-8       2222\n",
      " 18      2200\n",
      "-11      2127\n",
      "-10      2067\n",
      " 20      2007\n",
      " 21      1996\n",
      "-13      1853\n",
      "-15      1802\n",
      " 23      1707\n",
      "-16      1678\n",
      " 24      1518\n",
      "-18      1420\n",
      "-19      1418\n",
      "-21      1327\n",
      "        ...  \n",
      " 107        2\n",
      "-80         2\n",
      "-195        2\n",
      " 243        2\n",
      " 164        2\n",
      " 199        2\n",
      " 156        2\n",
      " 208        2\n",
      "-244        2\n",
      "-241        2\n",
      "-39         2\n",
      " 153        2\n",
      " 82         2\n",
      " 210        2\n",
      "-102        1\n",
      " 194        1\n",
      " 180        1\n",
      " 186        1\n",
      "-211        1\n",
      " 172        1\n",
      "-88         1\n",
      "-216        1\n",
      " 134        1\n",
      "-222        1\n",
      " 240        1\n",
      " 161        1\n",
      " 238        1\n",
      " 202        1\n",
      "-74         1\n",
      "-247        1\n",
      "Name: x, Length: 471, dtype: int64 \n",
      "\n",
      "Coordenada Y \n",
      "  1      15376\n",
      " 0       7431\n",
      " 6       5354\n",
      " 3       5204\n",
      " 7       5169\n",
      " 4       5050\n",
      " 9       4600\n",
      " 11      4314\n",
      " 12      4109\n",
      " 14      3570\n",
      " 15      3388\n",
      " 17      3179\n",
      "-2       3050\n",
      " 19      2645\n",
      " 20      2564\n",
      "-3       2457\n",
      " 22      2389\n",
      " 25      2056\n",
      " 23      1968\n",
      " 26      1900\n",
      "-5       1862\n",
      " 30      1724\n",
      " 28      1669\n",
      " 34      1535\n",
      " 31      1527\n",
      " 33      1457\n",
      " 37      1401\n",
      " 44      1381\n",
      " 42      1370\n",
      " 36      1359\n",
      "        ...  \n",
      " 709        1\n",
      " 791        1\n",
      " 712        1\n",
      " 582        1\n",
      " 508        1\n",
      " 505        1\n",
      "-34         1\n",
      " 575        1\n",
      " 498        1\n",
      " 698        1\n",
      " 790        1\n",
      " 801        1\n",
      " 765        1\n",
      " 673        1\n",
      " 760        1\n",
      " 780        1\n",
      " 497        1\n",
      " 728        1\n",
      " 727        1\n",
      " 572        1\n",
      " 653        1\n",
      " 799        1\n",
      "-41         1\n",
      " 701        1\n",
      " 782        1\n",
      "-15         1\n",
      " 670        1\n",
      " 852        1\n",
      " 542        1\n",
      " 788        1\n",
      "Name: y, Length: 578, dtype: int64 \n",
      "\n",
      "Picadas de la pelota \n",
      " 0     106913\n",
      "1      32836\n",
      "2      23447\n",
      "3      13164\n",
      "4       8962\n",
      "5       6218\n",
      "6       4834\n",
      "7       3894\n",
      "8       3188\n",
      "9       2578\n",
      "10      2167\n",
      "11      1786\n",
      "12      1396\n",
      "13      1179\n",
      "14       878\n",
      "15       645\n",
      "16       511\n",
      "17       418\n",
      "18       332\n",
      "19       283\n",
      "20       234\n",
      "21       229\n",
      "22       163\n",
      "23       160\n",
      "24        95\n",
      "25        59\n",
      "26        36\n",
      "28        21\n",
      "27        20\n",
      "30         8\n",
      "29         5\n",
      "31         4\n",
      "32         1\n",
      "Name: dribbles, dtype: int64 \n",
      "\n"
     ]
    }
   ],
   "source": [
    "#Variables tipo integer\n",
    "print ('Team ID', '\\n', df.team_id.value_counts(), '\\n')\n",
    "print ('Período', '\\n', df.period.value_counts(), '\\n')\n",
    "print ('Minutos faltantes', '\\n', df.minutes_remaining.value_counts(), '\\n')\n",
    "print ('Segundos faltantes', '\\n', df.seconds_remaining.value_counts(), '\\n')\n",
    "print ('Convertido o no', '\\n', df.shot_made_flag.value_counts(), '\\n')\n",
    "print ('Distancia del tiro', '\\n', df.shot_distance.value_counts(), '\\n')\n",
    "print ('Coordenada X', '\\n', df.x.value_counts(), '\\n')\n",
    "print ('Coordenada Y', '\\n', df.y.value_counts(), '\\n')\n",
    "print ('Picadas de la pelota', '\\n', df.dribbles.value_counts(), '\\n')"
   ]
  },
  {
   "cell_type": "code",
   "execution_count": 17,
   "metadata": {},
   "outputs": [
    {
     "name": "stderr",
     "output_type": "stream",
     "text": [
      "/anaconda3/lib/python3.7/site-packages/scipy/stats/stats.py:1713: FutureWarning: Using a non-tuple sequence for multidimensional indexing is deprecated; use `arr[tuple(seq)]` instead of `arr[seq]`. In the future this will be interpreted as an array index, `arr[np.array(seq)]`, which will result either in an error or a different result.\n",
      "  return np.add.reduce(sorted[indexer] * weights, axis=axis) / sumval\n"
     ]
    },
    {
     "data": {
      "text/plain": [
       "<matplotlib.axes._subplots.AxesSubplot at 0x1a1f971588>"
      ]
     },
     "execution_count": 17,
     "metadata": {},
     "output_type": "execute_result"
    },
    {
     "data": {
      "image/png": "[encoded data removed]",
      "text/plain": [
       "<Figure size 360x288 with 1 Axes>"
      ]
     },
     "metadata": {
      "needs_background": "light"
     },
     "output_type": "display_data"
    }
   ],
   "source": [
    "#Variables tipo float\n",
    "plt.figure(figsize=(5,4))\n",
    "plt.title('Touch time')\n",
    "sns.distplot(df.touch_time, bins = 100)"
   ]
  },
  {
   "cell_type": "code",
   "execution_count": 18,
   "metadata": {},
   "outputs": [
    {
     "data": {
      "text/plain": [
       "<matplotlib.axes._subplots.AxesSubplot at 0x1a2025dd30>"
      ]
     },
     "execution_count": 18,
     "metadata": {},
     "output_type": "execute_result"
    },
    {
     "data": {
      "image/png": "[encoded data removed]",
      "text/plain": [
       "<Figure size 360x288 with 1 Axes>"
      ]
     },
     "metadata": {
      "needs_background": "light"
     },
     "output_type": "display_data"
    }
   ],
   "source": [
    "plt.figure(figsize=(5,4))\n",
    "plt.title('Defender distance')\n",
    "sns.distplot(df.defender_distance, bins = 100)"
   ]
  },
  {
   "cell_type": "code",
   "execution_count": 19,
   "metadata": {},
   "outputs": [
    {
     "data": {
      "text/plain": [
       "<matplotlib.axes._subplots.AxesSubplot at 0x1a1fd79780>"
      ]
     },
     "execution_count": 19,
     "metadata": {},
     "output_type": "execute_result"
    },
    {
     "data": {
      "image/png": "[encoded data removed]",
      "text/plain": [
       "<Figure size 360x288 with 1 Axes>"
      ]
     },
     "metadata": {
      "needs_background": "light"
     },
     "output_type": "display_data"
    }
   ],
   "source": [
    "plt.figure(figsize=(5,4))\n",
    "plt.title('Shot Clock')\n",
    "sns.distplot(df.shot_clock, bins = 100)"
   ]
  },
  {
   "cell_type": "markdown",
   "metadata": {},
   "source": [
    "### 3.4 Consolidando el tiempo"
   ]
  },
  {
   "cell_type": "code",
   "execution_count": 20,
   "metadata": {},
   "outputs": [
    {
     "data": {
      "text/plain": [
       "<matplotlib.axes._subplots.AxesSubplot at 0x1a1fe80be0>"
      ]
     },
     "execution_count": 20,
     "metadata": {},
     "output_type": "execute_result"
    },
    {
     "data": {
      "image/png": "[encoded data removed]",
      "text/plain": [
       "<Figure size 360x288 with 1 Axes>"
      ]
     },
     "metadata": {
      "needs_background": "light"
     },
     "output_type": "display_data"
    }
   ],
   "source": [
    "df['time_remaining'] = df['minutes_remaining'] * 60 + df['seconds_remaining']\n",
    "plt.figure(figsize=(5,4))\n",
    "plt.title('Time Remaining')\n",
    "sns.distplot(df.time_remaining, bins = 100)"
   ]
  },
  {
   "cell_type": "code",
   "execution_count": 21,
   "metadata": {},
   "outputs": [
    {
     "data": {
      "text/plain": [
       "Index(['name', 'team_name', 'game_date', 'team_id', 'period',\n",
       "       'minutes_remaining', 'seconds_remaining', 'shot_made_flag',\n",
       "       'action_type', 'shot_type', 'shot_distance', 'opponent', 'x', 'y',\n",
       "       'dribbles', 'touch_time', 'defender_name', 'defender_distance',\n",
       "       'shot_clock', 'time_remaining'],\n",
       "      dtype='object')"
      ]
     },
     "execution_count": 21,
     "metadata": {},
     "output_type": "execute_result"
    }
   ],
   "source": [
    "df.columns"
   ]
  },
  {
   "cell_type": "code",
   "execution_count": 22,
   "metadata": {},
   "outputs": [],
   "source": [
    "df.drop(['minutes_remaining','seconds_remaining'], axis=1, inplace=True)"
   ]
  },
  {
   "cell_type": "code",
   "execution_count": 23,
   "metadata": {},
   "outputs": [
    {
     "data": {
      "text/plain": [
       "(216664, 18)"
      ]
     },
     "execution_count": 23,
     "metadata": {},
     "output_type": "execute_result"
    }
   ],
   "source": [
    "df.shape"
   ]
  },
  {
   "cell_type": "markdown",
   "metadata": {},
   "source": [
    "### 3.5 Analisando la correlación entre las variables"
   ]
  },
  {
   "cell_type": "code",
   "execution_count": 26,
   "metadata": {},
   "outputs": [
    {
     "data": {
      "text/plain": [
       "<matplotlib.axes._subplots.AxesSubplot at 0x1a20c325f8>"
      ]
     },
     "execution_count": 26,
     "metadata": {},
     "output_type": "execute_result"
    },
    {
     "data": {
      "image/png": "[encoded data removed]",
      "text/plain": [
       "<Figure size 432x288 with 2 Axes>"
      ]
     },
     "metadata": {
      "needs_background": "light"
     },
     "output_type": "display_data"
    }
   ],
   "source": [
    "sns.heatmap(df.corr(),  center=0, cmap='bwr', annot=False, linewidths=.5, fmt='.3f')"
   ]
  },
  {
   "cell_type": "code",
   "execution_count": 27,
   "metadata": {},
   "outputs": [
    {
     "data": {
      "text/plain": [
       "Index(['name', 'team_name', 'game_date', 'team_id', 'period', 'shot_made_flag',\n",
       "       'action_type', 'shot_type', 'shot_distance', 'opponent', 'x', 'y',\n",
       "       'dribbles', 'touch_time', 'defender_name', 'defender_distance',\n",
       "       'shot_clock', 'time_remaining'],\n",
       "      dtype='object')"
      ]
     },
     "execution_count": 27,
     "metadata": {},
     "output_type": "execute_result"
    }
   ],
   "source": [
    "df.columns"
   ]
  },
  {
   "cell_type": "code",
   "execution_count": 28,
   "metadata": {},
   "outputs": [
    {
     "data": {
      "text/plain": [
       "<matplotlib.axes._subplots.AxesSubplot at 0x1a2106af98>"
      ]
     },
     "execution_count": 28,
     "metadata": {},
     "output_type": "execute_result"
    },
    {
     "data": {
      "image/png": "[encoded data removed]",
      "text/plain": [
       "<Figure size 1800x864 with 8 Axes>"
      ]
     },
     "metadata": {
      "needs_background": "light"
     },
     "output_type": "display_data"
    }
   ],
   "source": [
    "#Correlacción de las principales variables con el target\n",
    "f, axes = plt.subplots(nrows=2, ncols=4, figsize=(25,12))\n",
    "f.suptitle('Correlacción de las principales variables con el target', size=35)\n",
    "sns.boxplot(x=\"shot_made_flag\", y=\"shot_distance\", data=df, ax=axes[0,0])\n",
    "sns.boxplot(x=\"shot_made_flag\", y=\"x\", data=df, ax=axes[0,1])\n",
    "sns.boxplot(x=\"shot_made_flag\", y=\"y\", data=df, ax=axes[0,2])\n",
    "sns.boxplot(x=\"shot_made_flag\", y=\"defender_distance\", data=df, ax=axes[0,3])\n",
    "sns.boxplot(x=\"shot_made_flag\", y=\"dribbles\", data=df, ax=axes[1,0])\n",
    "sns.boxplot(x=\"shot_made_flag\", y=\"touch_time\", data=df, ax=axes[1,1])\n",
    "sns.boxplot(x=\"shot_made_flag\", y=\"shot_clock\", data=df, ax=axes[1,2])\n",
    "sns.boxplot(x=\"shot_made_flag\", y=\"time_remaining\", data=df, ax=axes[1,3])"
   ]
  },
  {
   "cell_type": "markdown",
   "metadata": {},
   "source": [
    "## 4.0 Completando el dataset con información de la NBA_API"
   ]
  },
  {
   "cell_type": "markdown",
   "metadata": {},
   "source": [
    "### 4.1 Información de los jugadores"
   ]
  },
  {
   "cell_type": "markdown",
   "metadata": {},
   "source": [
    "#### 4.1.1 Identificar todos los jugadores"
   ]
  },
  {
   "cell_type": "code",
   "execution_count": 29,
   "metadata": {},
   "outputs": [],
   "source": [
    "jugadores = pd.DataFrame()\n",
    "jugadores['name'] = np.unique(df['name'])"
   ]
  },
  {
   "cell_type": "markdown",
   "metadata": {},
   "source": [
    "#### 4.1.2 Funcciones"
   ]
  },
  {
   "cell_type": "code",
   "execution_count": 30,
   "metadata": {},
   "outputs": [],
   "source": [
    "def findPlayerId(player_name):\n",
    "    try:\n",
    "        player_info = players.find_players_by_full_name(player_name)\n",
    "        return int(player_info[0]['id'])\n",
    "    except:\n",
    "        return np.nan"
   ]
  },
  {
   "cell_type": "code",
   "execution_count": 31,
   "metadata": {},
   "outputs": [],
   "source": [
    "def findPlayerInfo(p_id):\n",
    "    try: \n",
    "        player_info = commonplayerinfo.CommonPlayerInfo(player_id = p_id)\n",
    "        player_info = player_info.get_data_frames()[0]\n",
    "        player_info['HEIGHT'][0] = convertHeight(player_info['HEIGHT'][0])    \n",
    "        player_info['AGE'] = converAge(player_info['BIRTHDATE'][0])\n",
    "        player_info = player_info[['FIRST_NAME', 'LAST_NAME', 'DISPLAY_FIRST_LAST',\n",
    "       'DISPLAY_LAST_COMMA_FIRST', 'DISPLAY_FI_LAST', 'HEIGHT', 'WEIGHT', 'SEASON_EXP',\n",
    "       'POSITION', 'AGE']]\n",
    "        return player_info\n",
    "    except:\n",
    "         return np.nan"
   ]
  },
  {
   "cell_type": "code",
   "execution_count": 32,
   "metadata": {},
   "outputs": [],
   "source": [
    "def convertHeight(p_height):\n",
    "    pattern = r'((\\d*)-(\\d*))'\n",
    "    regex = re.compile(pattern, flags = re.IGNORECASE)\n",
    "    h = regex.findall(p_height)\n",
    "    height = np.nan\n",
    "    if h != '':\n",
    "        height = int(h[0][1])*12 + int(h[0][2])\n",
    "    \n",
    "    return height"
   ]
  },
  {
   "cell_type": "code",
   "execution_count": 33,
   "metadata": {},
   "outputs": [],
   "source": [
    "def converAge(player_age):\n",
    "    age = np.nan\n",
    "    pattern = r'((\\d)(\\d)(\\d)(\\d))'\n",
    "    regex = re.compile(pattern, flags = re.IGNORECASE)\n",
    "    a = regex.findall(player_age)\n",
    "    age = 2014 - int(a[0][0])\n",
    "    return age"
   ]
  },
  {
   "cell_type": "markdown",
   "metadata": {},
   "source": [
    "#### 4.1.3 Popular el dataset"
   ]
  },
  {
   "cell_type": "code",
   "execution_count": 34,
   "metadata": {},
   "outputs": [],
   "source": [
    " jugadores['player_id'] =jugadores['name'].apply(lambda x: findPlayerId(x))"
   ]
  },
  {
   "cell_type": "code",
   "execution_count": 35,
   "metadata": {},
   "outputs": [],
   "source": [
    "jugadores = jugadores.dropna();"
   ]
  },
  {
   "cell_type": "code",
   "execution_count": 36,
   "metadata": {},
   "outputs": [],
   "source": [
    "player_info = pd.DataFrame(index=jugadores.index, columns = ['FIRST_NAME', 'LAST_NAME', 'DISPLAY_FIRST_LAST',\n",
    "       'DISPLAY_LAST_COMMA_FIRST', 'DISPLAY_FI_LAST', 'HEIGHT', 'WEIGHT', 'SEASON_EXP',\n",
    "       'POSITION', 'AGE'])\n",
    "\n",
    "player_info = jugadores['player_id'].apply(lambda x: findPlayerInfo(int(x)))"
   ]
  },
  {
   "cell_type": "code",
   "execution_count": 37,
   "metadata": {},
   "outputs": [],
   "source": [
    "player_info = player_info.dropna();\n",
    "player = pd.DataFrame(columns = ['FIRST_NAME', 'LAST_NAME', 'DISPLAY_FIRST_LAST',\n",
    "       'DISPLAY_LAST_COMMA_FIRST', 'DISPLAY_FI_LAST', 'HEIGHT', 'WEIGHT', 'SEASON_EXP',\n",
    "       'POSITION', 'AGE'])\n",
    "for value in player_info:\n",
    "    player = player.append(value)"
   ]
  },
  {
   "cell_type": "code",
   "execution_count": 38,
   "metadata": {},
   "outputs": [
    {
     "data": {
      "text/html": [
       "<div>\n",
       "<style scoped>\n",
       "    .dataframe tbody tr th:only-of-type {\n",
       "        vertical-align: middle;\n",
       "    }\n",
       "\n",
       "    .dataframe tbody tr th {\n",
       "        vertical-align: top;\n",
       "    }\n",
       "\n",
       "    .dataframe thead th {\n",
       "        text-align: right;\n",
       "    }\n",
       "</style>\n",
       "<table border=\"1\" class=\"dataframe\">\n",
       "  <thead>\n",
       "    <tr style=\"text-align: right;\">\n",
       "      <th></th>\n",
       "      <th>FIRST_NAME</th>\n",
       "      <th>LAST_NAME</th>\n",
       "      <th>DISPLAY_FIRST_LAST</th>\n",
       "      <th>DISPLAY_LAST_COMMA_FIRST</th>\n",
       "      <th>DISPLAY_FI_LAST</th>\n",
       "      <th>HEIGHT</th>\n",
       "      <th>WEIGHT</th>\n",
       "      <th>SEASON_EXP</th>\n",
       "      <th>POSITION</th>\n",
       "      <th>AGE</th>\n",
       "    </tr>\n",
       "  </thead>\n",
       "  <tbody>\n",
       "    <tr>\n",
       "      <th>0</th>\n",
       "      <td>Aaron</td>\n",
       "      <td>Brooks</td>\n",
       "      <td>Aaron Brooks</td>\n",
       "      <td>Brooks, Aaron</td>\n",
       "      <td>A. Brooks</td>\n",
       "      <td>72</td>\n",
       "      <td>161</td>\n",
       "      <td>9</td>\n",
       "      <td>Guard</td>\n",
       "      <td>29</td>\n",
       "    </tr>\n",
       "    <tr>\n",
       "      <th>0</th>\n",
       "      <td>Aaron</td>\n",
       "      <td>Gordon</td>\n",
       "      <td>Aaron Gordon</td>\n",
       "      <td>Gordon, Aaron</td>\n",
       "      <td>A. Gordon</td>\n",
       "      <td>81</td>\n",
       "      <td>220</td>\n",
       "      <td>5</td>\n",
       "      <td>Forward</td>\n",
       "      <td>19</td>\n",
       "    </tr>\n",
       "    <tr>\n",
       "      <th>0</th>\n",
       "      <td>Al</td>\n",
       "      <td>Horford</td>\n",
       "      <td>Al Horford</td>\n",
       "      <td>Horford, Al</td>\n",
       "      <td>A. Horford</td>\n",
       "      <td>82</td>\n",
       "      <td>245</td>\n",
       "      <td>12</td>\n",
       "      <td>Center-Forward</td>\n",
       "      <td>28</td>\n",
       "    </tr>\n",
       "    <tr>\n",
       "      <th>0</th>\n",
       "      <td>Al</td>\n",
       "      <td>Jefferson</td>\n",
       "      <td>Al Jefferson</td>\n",
       "      <td>Jefferson, Al</td>\n",
       "      <td>A. Jefferson</td>\n",
       "      <td>82</td>\n",
       "      <td>280</td>\n",
       "      <td>13</td>\n",
       "      <td>Center</td>\n",
       "      <td>29</td>\n",
       "    </tr>\n",
       "    <tr>\n",
       "      <th>0</th>\n",
       "      <td>Alan</td>\n",
       "      <td>Anderson</td>\n",
       "      <td>Alan Anderson</td>\n",
       "      <td>Anderson, Alan</td>\n",
       "      <td>A. Anderson</td>\n",
       "      <td>78</td>\n",
       "      <td>220</td>\n",
       "      <td>8</td>\n",
       "      <td>Forward-Guard</td>\n",
       "      <td>32</td>\n",
       "    </tr>\n",
       "  </tbody>\n",
       "</table>\n",
       "</div>"
      ],
      "text/plain": [
       "  FIRST_NAME  LAST_NAME DISPLAY_FIRST_LAST DISPLAY_LAST_COMMA_FIRST  \\\n",
       "0      Aaron     Brooks       Aaron Brooks            Brooks, Aaron   \n",
       "0      Aaron     Gordon       Aaron Gordon            Gordon, Aaron   \n",
       "0         Al    Horford         Al Horford              Horford, Al   \n",
       "0         Al  Jefferson       Al Jefferson            Jefferson, Al   \n",
       "0       Alan   Anderson      Alan Anderson           Anderson, Alan   \n",
       "\n",
       "  DISPLAY_FI_LAST HEIGHT WEIGHT SEASON_EXP        POSITION AGE  \n",
       "0       A. Brooks     72    161          9           Guard  29  \n",
       "0       A. Gordon     81    220          5         Forward  19  \n",
       "0      A. Horford     82    245         12  Center-Forward  28  \n",
       "0    A. Jefferson     82    280         13          Center  29  \n",
       "0     A. Anderson     78    220          8   Forward-Guard  32  "
      ]
     },
     "execution_count": 38,
     "metadata": {},
     "output_type": "execute_result"
    }
   ],
   "source": [
    "player.head(5)"
   ]
  },
  {
   "cell_type": "code",
   "execution_count": 39,
   "metadata": {},
   "outputs": [
    {
     "data": {
      "text/plain": [
       "26    37\n",
       "24    37\n",
       "23    36\n",
       "22    30\n",
       "25    29\n",
       "29    28\n",
       "28    27\n",
       "27    19\n",
       "21    18\n",
       "34    16\n",
       "32    14\n",
       "30    13\n",
       "31    12\n",
       "33    10\n",
       "20    10\n",
       "19     7\n",
       "37     6\n",
       "35     3\n",
       "36     3\n",
       "38     3\n",
       "58     1\n",
       "56     1\n",
       "41     1\n",
       "67     1\n",
       "Name: AGE, dtype: int64"
      ]
     },
     "execution_count": 39,
     "metadata": {},
     "output_type": "execute_result"
    }
   ],
   "source": [
    "player['AGE'].value_counts()"
   ]
  },
  {
   "cell_type": "code",
   "execution_count": 40,
   "metadata": {},
   "outputs": [],
   "source": [
    "player['AGE'][player['AGE']>41] = np.nan"
   ]
  },
  {
   "cell_type": "code",
   "execution_count": 41,
   "metadata": {},
   "outputs": [],
   "source": [
    "player = player.dropna()"
   ]
  },
  {
   "cell_type": "markdown",
   "metadata": {},
   "source": [
    "### Convertimos a numeric y revisames un poco los datos"
   ]
  },
  {
   "cell_type": "code",
   "execution_count": 42,
   "metadata": {},
   "outputs": [
    {
     "data": {
      "text/plain": [
       "FIRST_NAME                  object\n",
       "LAST_NAME                   object\n",
       "DISPLAY_FIRST_LAST          object\n",
       "DISPLAY_LAST_COMMA_FIRST    object\n",
       "DISPLAY_FI_LAST             object\n",
       "HEIGHT                      object\n",
       "WEIGHT                      object\n",
       "SEASON_EXP                  object\n",
       "POSITION                    object\n",
       "AGE                         object\n",
       "dtype: object"
      ]
     },
     "execution_count": 42,
     "metadata": {},
     "output_type": "execute_result"
    }
   ],
   "source": [
    "player.dtypes"
   ]
  },
  {
   "cell_type": "code",
   "execution_count": 55,
   "metadata": {},
   "outputs": [],
   "source": [
    "player['AGE'] = pd.to_numeric((player['AGE']))"
   ]
  },
  {
   "cell_type": "code",
   "execution_count": 56,
   "metadata": {},
   "outputs": [
    {
     "data": {
      "text/plain": [
       "81     47\n",
       "82     42\n",
       "79     37\n",
       "83     36\n",
       "75     36\n",
       "80     35\n",
       "78     32\n",
       "84     27\n",
       "76     22\n",
       "77     20\n",
       "73     17\n",
       "74     11\n",
       "85      7\n",
       "72      7\n",
       "71      3\n",
       "86      2\n",
       "6-9     1\n",
       "69      1\n",
       "Name: HEIGHT, dtype: int64"
      ]
     },
     "execution_count": 56,
     "metadata": {},
     "output_type": "execute_result"
    }
   ],
   "source": [
    "player['HEIGHT'].value_counts()"
   ]
  },
  {
   "cell_type": "code",
   "execution_count": 57,
   "metadata": {},
   "outputs": [],
   "source": [
    "player['HEIGHT'][player['HEIGHT']==\"6-9\"] = 81"
   ]
  },
  {
   "cell_type": "code",
   "execution_count": 58,
   "metadata": {},
   "outputs": [
    {
     "data": {
      "text/plain": [
       "81    48\n",
       "82    42\n",
       "79    37\n",
       "83    36\n",
       "75    36\n",
       "80    35\n",
       "78    32\n",
       "84    27\n",
       "76    22\n",
       "77    20\n",
       "73    17\n",
       "74    11\n",
       "85     7\n",
       "72     7\n",
       "71     3\n",
       "86     2\n",
       "69     1\n",
       "Name: HEIGHT, dtype: int64"
      ]
     },
     "execution_count": 58,
     "metadata": {},
     "output_type": "execute_result"
    }
   ],
   "source": [
    "player['HEIGHT'].value_counts()"
   ]
  },
  {
   "cell_type": "code",
   "execution_count": 59,
   "metadata": {},
   "outputs": [],
   "source": [
    "player['HEIGHT'] = pd.to_numeric((player['HEIGHT']))"
   ]
  },
  {
   "cell_type": "code",
   "execution_count": 60,
   "metadata": {},
   "outputs": [
    {
     "data": {
      "text/plain": [
       "250    25\n",
       "220    24\n",
       "200    20\n",
       "205    18\n",
       "235    16\n",
       "225    16\n",
       "240    16\n",
       "190    15\n",
       "230    15\n",
       "245    14\n",
       "215    14\n",
       "210    13\n",
       "185    12\n",
       "195    10\n",
       "175    10\n",
       "260    10\n",
       "255     9\n",
       "265     9\n",
       "270     7\n",
       "228     6\n",
       "218     5\n",
       "237     5\n",
       "212     5\n",
       "232     4\n",
       "253     4\n",
       "194     4\n",
       "275     3\n",
       "180     3\n",
       "248     3\n",
       "222     2\n",
       "       ..\n",
       "173     1\n",
       "196     1\n",
       "231     1\n",
       "280     1\n",
       "191     1\n",
       "189     1\n",
       "252     1\n",
       "187     1\n",
       "207     1\n",
       "192     1\n",
       "181     1\n",
       "202     1\n",
       "188     1\n",
       "203     1\n",
       "274     1\n",
       "201     1\n",
       "249     1\n",
       "216     1\n",
       "246     1\n",
       "233     1\n",
       "199     1\n",
       "251     1\n",
       "184     1\n",
       "254     1\n",
       "262     1\n",
       "278     1\n",
       "307     1\n",
       "263     1\n",
       "289     1\n",
       "279     1\n",
       "Name: WEIGHT, Length: 80, dtype: int64"
      ]
     },
     "execution_count": 60,
     "metadata": {},
     "output_type": "execute_result"
    }
   ],
   "source": [
    "player['WEIGHT'].value_counts()"
   ]
  },
  {
   "cell_type": "code",
   "execution_count": 61,
   "metadata": {},
   "outputs": [],
   "source": [
    "player['WEIGHT'] = pd.to_numeric((player['WEIGHT']))"
   ]
  },
  {
   "cell_type": "code",
   "execution_count": 62,
   "metadata": {},
   "outputs": [
    {
     "data": {
      "text/plain": [
       "Index(['FIRST_NAME', 'LAST_NAME', 'DISPLAY_FIRST_LAST',\n",
       "       'DISPLAY_LAST_COMMA_FIRST', 'DISPLAY_FI_LAST', 'HEIGHT', 'WEIGHT',\n",
       "       'SEASON_EXP', 'POSITION', 'AGE'],\n",
       "      dtype='object')"
      ]
     },
     "execution_count": 62,
     "metadata": {},
     "output_type": "execute_result"
    }
   ],
   "source": [
    "player.columns"
   ]
  },
  {
   "cell_type": "code",
   "execution_count": 63,
   "metadata": {},
   "outputs": [],
   "source": [
    "player_info_defender = player.rename(columns={'DISPLAY_LAST_COMMA_FIRST': 'DISPLAY_LAST_COMMA_FIRST_DEFENDER', 'HEIGHT': 'HEIGHT_DEFENDER', 'WEIGHT':'WEIGHT_DEFENDER', 'SEASON_EXP':'SEASON_EXP_DEFENDER', 'POSITION':'POSITION_DEFENDER', 'AGE':'AGE_DEFENDER'})\n",
    "player_info_defender = player_info_defender.drop(['FIRST_NAME', 'LAST_NAME', 'DISPLAY_FIRST_LAST', 'DISPLAY_FI_LAST'], axis=1)\n",
    "player_info_player = player.rename(columns={'DISPLAY_FIRST_LAST': 'DISPLAY_FIRST_LAST_PLAYER', 'HEIGHT': 'HEIGHT_PLAYER', 'WEIGHT':'WEIGHT_PLAYER', 'SEASON_EXP':'SEASON_EXP_PLAYER', 'POSITION':'POSITION_PLAYER', 'AGE':'AGE_PLAYER'})\n",
    "player_info_player = player_info_player.drop(['FIRST_NAME', 'LAST_NAME', 'DISPLAY_LAST_COMMA_FIRST', 'DISPLAY_FI_LAST'], axis=1)"
   ]
  },
  {
   "cell_type": "code",
   "execution_count": 64,
   "metadata": {},
   "outputs": [
    {
     "data": {
      "text/html": [
       "<div>\n",
       "<style scoped>\n",
       "    .dataframe tbody tr th:only-of-type {\n",
       "        vertical-align: middle;\n",
       "    }\n",
       "\n",
       "    .dataframe tbody tr th {\n",
       "        vertical-align: top;\n",
       "    }\n",
       "\n",
       "    .dataframe thead th {\n",
       "        text-align: right;\n",
       "    }\n",
       "</style>\n",
       "<table border=\"1\" class=\"dataframe\">\n",
       "  <thead>\n",
       "    <tr style=\"text-align: right;\">\n",
       "      <th></th>\n",
       "      <th>DISPLAY_LAST_COMMA_FIRST_DEFENDER</th>\n",
       "      <th>HEIGHT_DEFENDER</th>\n",
       "      <th>WEIGHT_DEFENDER</th>\n",
       "      <th>SEASON_EXP_DEFENDER</th>\n",
       "      <th>POSITION_DEFENDER</th>\n",
       "      <th>AGE_DEFENDER</th>\n",
       "    </tr>\n",
       "  </thead>\n",
       "  <tbody>\n",
       "    <tr>\n",
       "      <th>0</th>\n",
       "      <td>Brooks, Aaron</td>\n",
       "      <td>72</td>\n",
       "      <td>161</td>\n",
       "      <td>9</td>\n",
       "      <td>Guard</td>\n",
       "      <td>29</td>\n",
       "    </tr>\n",
       "    <tr>\n",
       "      <th>0</th>\n",
       "      <td>Gordon, Aaron</td>\n",
       "      <td>81</td>\n",
       "      <td>220</td>\n",
       "      <td>5</td>\n",
       "      <td>Forward</td>\n",
       "      <td>19</td>\n",
       "    </tr>\n",
       "    <tr>\n",
       "      <th>0</th>\n",
       "      <td>Horford, Al</td>\n",
       "      <td>82</td>\n",
       "      <td>245</td>\n",
       "      <td>12</td>\n",
       "      <td>Center-Forward</td>\n",
       "      <td>28</td>\n",
       "    </tr>\n",
       "    <tr>\n",
       "      <th>0</th>\n",
       "      <td>Jefferson, Al</td>\n",
       "      <td>82</td>\n",
       "      <td>280</td>\n",
       "      <td>13</td>\n",
       "      <td>Center</td>\n",
       "      <td>29</td>\n",
       "    </tr>\n",
       "    <tr>\n",
       "      <th>0</th>\n",
       "      <td>Anderson, Alan</td>\n",
       "      <td>78</td>\n",
       "      <td>220</td>\n",
       "      <td>8</td>\n",
       "      <td>Forward-Guard</td>\n",
       "      <td>32</td>\n",
       "    </tr>\n",
       "  </tbody>\n",
       "</table>\n",
       "</div>"
      ],
      "text/plain": [
       "  DISPLAY_LAST_COMMA_FIRST_DEFENDER  HEIGHT_DEFENDER  WEIGHT_DEFENDER  \\\n",
       "0                     Brooks, Aaron               72              161   \n",
       "0                     Gordon, Aaron               81              220   \n",
       "0                       Horford, Al               82              245   \n",
       "0                     Jefferson, Al               82              280   \n",
       "0                    Anderson, Alan               78              220   \n",
       "\n",
       "  SEASON_EXP_DEFENDER POSITION_DEFENDER  AGE_DEFENDER  \n",
       "0                   9             Guard            29  \n",
       "0                   5           Forward            19  \n",
       "0                  12    Center-Forward            28  \n",
       "0                  13            Center            29  \n",
       "0                   8     Forward-Guard            32  "
      ]
     },
     "execution_count": 64,
     "metadata": {},
     "output_type": "execute_result"
    }
   ],
   "source": [
    "player_info_defender.head()"
   ]
  },
  {
   "cell_type": "code",
   "execution_count": 65,
   "metadata": {},
   "outputs": [
    {
     "data": {
      "text/html": [
       "<div>\n",
       "<style scoped>\n",
       "    .dataframe tbody tr th:only-of-type {\n",
       "        vertical-align: middle;\n",
       "    }\n",
       "\n",
       "    .dataframe tbody tr th {\n",
       "        vertical-align: top;\n",
       "    }\n",
       "\n",
       "    .dataframe thead th {\n",
       "        text-align: right;\n",
       "    }\n",
       "</style>\n",
       "<table border=\"1\" class=\"dataframe\">\n",
       "  <thead>\n",
       "    <tr style=\"text-align: right;\">\n",
       "      <th></th>\n",
       "      <th>DISPLAY_FIRST_LAST_PLAYER</th>\n",
       "      <th>HEIGHT_PLAYER</th>\n",
       "      <th>WEIGHT_PLAYER</th>\n",
       "      <th>SEASON_EXP_PLAYER</th>\n",
       "      <th>POSITION_PLAYER</th>\n",
       "      <th>AGE_PLAYER</th>\n",
       "    </tr>\n",
       "  </thead>\n",
       "  <tbody>\n",
       "    <tr>\n",
       "      <th>0</th>\n",
       "      <td>Aaron Brooks</td>\n",
       "      <td>72</td>\n",
       "      <td>161</td>\n",
       "      <td>9</td>\n",
       "      <td>Guard</td>\n",
       "      <td>29</td>\n",
       "    </tr>\n",
       "    <tr>\n",
       "      <th>0</th>\n",
       "      <td>Aaron Gordon</td>\n",
       "      <td>81</td>\n",
       "      <td>220</td>\n",
       "      <td>5</td>\n",
       "      <td>Forward</td>\n",
       "      <td>19</td>\n",
       "    </tr>\n",
       "    <tr>\n",
       "      <th>0</th>\n",
       "      <td>Al Horford</td>\n",
       "      <td>82</td>\n",
       "      <td>245</td>\n",
       "      <td>12</td>\n",
       "      <td>Center-Forward</td>\n",
       "      <td>28</td>\n",
       "    </tr>\n",
       "    <tr>\n",
       "      <th>0</th>\n",
       "      <td>Al Jefferson</td>\n",
       "      <td>82</td>\n",
       "      <td>280</td>\n",
       "      <td>13</td>\n",
       "      <td>Center</td>\n",
       "      <td>29</td>\n",
       "    </tr>\n",
       "    <tr>\n",
       "      <th>0</th>\n",
       "      <td>Alan Anderson</td>\n",
       "      <td>78</td>\n",
       "      <td>220</td>\n",
       "      <td>8</td>\n",
       "      <td>Forward-Guard</td>\n",
       "      <td>32</td>\n",
       "    </tr>\n",
       "  </tbody>\n",
       "</table>\n",
       "</div>"
      ],
      "text/plain": [
       "  DISPLAY_FIRST_LAST_PLAYER  HEIGHT_PLAYER  WEIGHT_PLAYER SEASON_EXP_PLAYER  \\\n",
       "0              Aaron Brooks             72            161                 9   \n",
       "0              Aaron Gordon             81            220                 5   \n",
       "0                Al Horford             82            245                12   \n",
       "0              Al Jefferson             82            280                13   \n",
       "0             Alan Anderson             78            220                 8   \n",
       "\n",
       "  POSITION_PLAYER  AGE_PLAYER  \n",
       "0           Guard          29  \n",
       "0         Forward          19  \n",
       "0  Center-Forward          28  \n",
       "0          Center          29  \n",
       "0   Forward-Guard          32  "
      ]
     },
     "execution_count": 65,
     "metadata": {},
     "output_type": "execute_result"
    }
   ],
   "source": [
    "player_info_player.head()"
   ]
  },
  {
   "cell_type": "code",
   "execution_count": 66,
   "metadata": {},
   "outputs": [],
   "source": [
    "df = pd.merge(df, player_info_player, left_on=['name'], right_on=['DISPLAY_FIRST_LAST_PLAYER'], how = 'left')"
   ]
  },
  {
   "cell_type": "code",
   "execution_count": 67,
   "metadata": {},
   "outputs": [
    {
     "data": {
      "text/plain": [
       "Index(['name', 'team_name', 'game_date', 'team_id', 'period', 'shot_made_flag',\n",
       "       'action_type', 'shot_type', 'shot_distance', 'opponent', 'x', 'y',\n",
       "       'dribbles', 'touch_time', 'defender_name', 'defender_distance',\n",
       "       'shot_clock', 'time_remaining', 'DISPLAY_FIRST_LAST_PLAYER',\n",
       "       'HEIGHT_PLAYER', 'WEIGHT_PLAYER', 'SEASON_EXP_PLAYER',\n",
       "       'POSITION_PLAYER', 'AGE_PLAYER'],\n",
       "      dtype='object')"
      ]
     },
     "execution_count": 67,
     "metadata": {},
     "output_type": "execute_result"
    }
   ],
   "source": [
    "df.columns"
   ]
  },
  {
   "cell_type": "code",
   "execution_count": 68,
   "metadata": {},
   "outputs": [],
   "source": [
    "df = pd.merge(df, player_info_defender, left_on=['defender_name'], right_on=['DISPLAY_LAST_COMMA_FIRST_DEFENDER'], how = 'left')"
   ]
  },
  {
   "cell_type": "code",
   "execution_count": 69,
   "metadata": {},
   "outputs": [],
   "source": [
    "df = df.drop(['DISPLAY_LAST_COMMA_FIRST_DEFENDER', 'DISPLAY_FIRST_LAST_PLAYER'], axis = 1)"
   ]
  },
  {
   "cell_type": "code",
   "execution_count": 70,
   "metadata": {},
   "outputs": [],
   "source": [
    "df = df.dropna(subset=['AGE_PLAYER'])"
   ]
  },
  {
   "cell_type": "code",
   "execution_count": 71,
   "metadata": {},
   "outputs": [
    {
     "data": {
      "text/plain": [
       "(186690, 28)"
      ]
     },
     "execution_count": 71,
     "metadata": {},
     "output_type": "execute_result"
    }
   ],
   "source": [
    "df.shape"
   ]
  },
  {
   "cell_type": "code",
   "execution_count": 72,
   "metadata": {},
   "outputs": [],
   "source": [
    "df = df.dropna(subset=['AGE_DEFENDER'])"
   ]
  },
  {
   "cell_type": "code",
   "execution_count": 73,
   "metadata": {},
   "outputs": [
    {
     "data": {
      "text/plain": [
       "(160691, 28)"
      ]
     },
     "execution_count": 73,
     "metadata": {},
     "output_type": "execute_result"
    }
   ],
   "source": [
    "df.shape"
   ]
  },
  {
   "cell_type": "markdown",
   "metadata": {},
   "source": [
    "### 4.2 Información de los partidos"
   ]
  },
  {
   "cell_type": "code",
   "execution_count": 74,
   "metadata": {},
   "outputs": [
    {
     "data": {
      "text/plain": [
       "(160691, 28)"
      ]
     },
     "execution_count": 74,
     "metadata": {},
     "output_type": "execute_result"
    }
   ],
   "source": [
    "df.shape"
   ]
  },
  {
   "cell_type": "code",
   "execution_count": 76,
   "metadata": {},
   "outputs": [
    {
     "data": {
      "text/html": [
       "<div>\n",
       "<style scoped>\n",
       "    .dataframe tbody tr th:only-of-type {\n",
       "        vertical-align: middle;\n",
       "    }\n",
       "\n",
       "    .dataframe tbody tr th {\n",
       "        vertical-align: top;\n",
       "    }\n",
       "\n",
       "    .dataframe thead th {\n",
       "        text-align: right;\n",
       "    }\n",
       "</style>\n",
       "<table border=\"1\" class=\"dataframe\">\n",
       "  <thead>\n",
       "    <tr style=\"text-align: right;\">\n",
       "      <th></th>\n",
       "      <th>SEASON_ID</th>\n",
       "      <th>TEAM_ID</th>\n",
       "      <th>TEAM_ABBREVIATION</th>\n",
       "      <th>TEAM_NAME</th>\n",
       "      <th>GAME_ID</th>\n",
       "      <th>GAME_DATE</th>\n",
       "      <th>MATCHUP</th>\n",
       "      <th>WL</th>\n",
       "      <th>MIN</th>\n",
       "      <th>PTS</th>\n",
       "      <th>...</th>\n",
       "      <th>FT_PCT</th>\n",
       "      <th>OREB</th>\n",
       "      <th>DREB</th>\n",
       "      <th>REB</th>\n",
       "      <th>AST</th>\n",
       "      <th>STL</th>\n",
       "      <th>BLK</th>\n",
       "      <th>TOV</th>\n",
       "      <th>PF</th>\n",
       "      <th>PLUS_MINUS</th>\n",
       "    </tr>\n",
       "  </thead>\n",
       "  <tbody>\n",
       "    <tr>\n",
       "      <th>0</th>\n",
       "      <td>42014</td>\n",
       "      <td>1610612739</td>\n",
       "      <td>CLE</td>\n",
       "      <td>Cleveland Cavaliers</td>\n",
       "      <td>0041400406</td>\n",
       "      <td>2015-06-16</td>\n",
       "      <td>CLE vs. GSW</td>\n",
       "      <td>L</td>\n",
       "      <td>239</td>\n",
       "      <td>97</td>\n",
       "      <td>...</td>\n",
       "      <td>0.692</td>\n",
       "      <td>16</td>\n",
       "      <td>40</td>\n",
       "      <td>56</td>\n",
       "      <td>14</td>\n",
       "      <td>3</td>\n",
       "      <td>7</td>\n",
       "      <td>16</td>\n",
       "      <td>26</td>\n",
       "      <td>-8.0</td>\n",
       "    </tr>\n",
       "    <tr>\n",
       "      <th>1</th>\n",
       "      <td>42014</td>\n",
       "      <td>1610612744</td>\n",
       "      <td>GSW</td>\n",
       "      <td>Golden State Warriors</td>\n",
       "      <td>0041400406</td>\n",
       "      <td>2015-06-16</td>\n",
       "      <td>GSW @ CLE</td>\n",
       "      <td>W</td>\n",
       "      <td>239</td>\n",
       "      <td>105</td>\n",
       "      <td>...</td>\n",
       "      <td>0.621</td>\n",
       "      <td>7</td>\n",
       "      <td>32</td>\n",
       "      <td>39</td>\n",
       "      <td>28</td>\n",
       "      <td>11</td>\n",
       "      <td>4</td>\n",
       "      <td>9</td>\n",
       "      <td>27</td>\n",
       "      <td>8.0</td>\n",
       "    </tr>\n",
       "    <tr>\n",
       "      <th>2</th>\n",
       "      <td>42014</td>\n",
       "      <td>1610612744</td>\n",
       "      <td>GSW</td>\n",
       "      <td>Golden State Warriors</td>\n",
       "      <td>0041400405</td>\n",
       "      <td>2015-06-14</td>\n",
       "      <td>GSW vs. CLE</td>\n",
       "      <td>W</td>\n",
       "      <td>239</td>\n",
       "      <td>104</td>\n",
       "      <td>...</td>\n",
       "      <td>0.588</td>\n",
       "      <td>11</td>\n",
       "      <td>32</td>\n",
       "      <td>43</td>\n",
       "      <td>25</td>\n",
       "      <td>7</td>\n",
       "      <td>2</td>\n",
       "      <td>16</td>\n",
       "      <td>25</td>\n",
       "      <td>13.0</td>\n",
       "    </tr>\n",
       "    <tr>\n",
       "      <th>3</th>\n",
       "      <td>42014</td>\n",
       "      <td>1610612739</td>\n",
       "      <td>CLE</td>\n",
       "      <td>Cleveland Cavaliers</td>\n",
       "      <td>0041400405</td>\n",
       "      <td>2015-06-14</td>\n",
       "      <td>CLE @ GSW</td>\n",
       "      <td>L</td>\n",
       "      <td>241</td>\n",
       "      <td>91</td>\n",
       "      <td>...</td>\n",
       "      <td>0.714</td>\n",
       "      <td>10</td>\n",
       "      <td>27</td>\n",
       "      <td>37</td>\n",
       "      <td>17</td>\n",
       "      <td>10</td>\n",
       "      <td>4</td>\n",
       "      <td>10</td>\n",
       "      <td>28</td>\n",
       "      <td>-13.0</td>\n",
       "    </tr>\n",
       "    <tr>\n",
       "      <th>4</th>\n",
       "      <td>42014</td>\n",
       "      <td>1610612739</td>\n",
       "      <td>CLE</td>\n",
       "      <td>Cleveland Cavaliers</td>\n",
       "      <td>0041400404</td>\n",
       "      <td>2015-06-11</td>\n",
       "      <td>CLE vs. GSW</td>\n",
       "      <td>L</td>\n",
       "      <td>239</td>\n",
       "      <td>82</td>\n",
       "      <td>...</td>\n",
       "      <td>0.714</td>\n",
       "      <td>16</td>\n",
       "      <td>33</td>\n",
       "      <td>49</td>\n",
       "      <td>16</td>\n",
       "      <td>2</td>\n",
       "      <td>3</td>\n",
       "      <td>9</td>\n",
       "      <td>19</td>\n",
       "      <td>-21.0</td>\n",
       "    </tr>\n",
       "  </tbody>\n",
       "</table>\n",
       "<p>5 rows × 28 columns</p>\n",
       "</div>"
      ],
      "text/plain": [
       "  SEASON_ID     TEAM_ID TEAM_ABBREVIATION              TEAM_NAME     GAME_ID  \\\n",
       "0     42014  1610612739               CLE    Cleveland Cavaliers  0041400406   \n",
       "1     42014  1610612744               GSW  Golden State Warriors  0041400406   \n",
       "2     42014  1610612744               GSW  Golden State Warriors  0041400405   \n",
       "3     42014  1610612739               CLE    Cleveland Cavaliers  0041400405   \n",
       "4     42014  1610612739               CLE    Cleveland Cavaliers  0041400404   \n",
       "\n",
       "    GAME_DATE      MATCHUP WL  MIN  PTS     ...      FT_PCT  OREB  DREB  REB  \\\n",
       "0  2015-06-16  CLE vs. GSW  L  239   97     ...       0.692    16    40   56   \n",
       "1  2015-06-16    GSW @ CLE  W  239  105     ...       0.621     7    32   39   \n",
       "2  2015-06-14  GSW vs. CLE  W  239  104     ...       0.588    11    32   43   \n",
       "3  2015-06-14    CLE @ GSW  L  241   91     ...       0.714    10    27   37   \n",
       "4  2015-06-11  CLE vs. GSW  L  239   82     ...       0.714    16    33   49   \n",
       "\n",
       "   AST  STL  BLK  TOV  PF  PLUS_MINUS  \n",
       "0   14    3    7   16  26        -8.0  \n",
       "1   28   11    4    9  27         8.0  \n",
       "2   25    7    2   16  25        13.0  \n",
       "3   17   10    4   10  28       -13.0  \n",
       "4   16    2    3    9  19       -21.0  \n",
       "\n",
       "[5 rows x 28 columns]"
      ]
     },
     "execution_count": 76,
     "metadata": {},
     "output_type": "execute_result"
    }
   ],
   "source": [
    "gamefinder = leaguegamefinder.LeagueGameFinder(player_or_team_abbreviation = 'T', season_nullable = '2014-15')\n",
    "games = gamefinder.get_data_frames()[0]\n",
    "games.head()"
   ]
  },
  {
   "cell_type": "code",
   "execution_count": 90,
   "metadata": {},
   "outputs": [],
   "source": [
    "regular_start = datetime.strptime('2014-10-28', '%Y-%m-%d')\n",
    "regular_end = datetime.strptime('2015-04-15', '%Y-%m-%d')\n",
    "playoff_start = datetime.strptime('2015-04-18', '%Y-%m-%d')\n",
    "playoff_end = datetime.strptime('2015-06-16', '%Y-%m-%d')"
   ]
  },
  {
   "cell_type": "code",
   "execution_count": 91,
   "metadata": {},
   "outputs": [],
   "source": [
    "df['home_game'] = np.nan\n",
    "df['playoff'] = np.nan"
   ]
  },
  {
   "cell_type": "code",
   "execution_count": 92,
   "metadata": {},
   "outputs": [],
   "source": [
    "df['game_datetime'] = df['game_date']"
   ]
  },
  {
   "cell_type": "code",
   "execution_count": 93,
   "metadata": {},
   "outputs": [],
   "source": [
    "def fecha_formato (fecha_input):\n",
    "    fecha = fecha_input\n",
    "    if re.search(r'\\b/\\b', fecha):\n",
    "        date_object = datetime.strptime(fecha, '%m/%d/%Y')\n",
    "        fecha = datetime.strftime(date_object, '%Y-%m-%d')\n",
    "    return fecha"
   ]
  },
  {
   "cell_type": "code",
   "execution_count": 94,
   "metadata": {},
   "outputs": [],
   "source": [
    "def fecha_datetime (fecha_input):\n",
    "    fecha = fecha_input\n",
    "    if re.search(r'\\b/\\b', fecha):\n",
    "        date_object = datetime.strptime(fecha, '%m/%d/%Y')\n",
    "    else:\n",
    "        date_object = datetime.strptime(fecha, '%Y-%m-%d')\n",
    "    return date_object"
   ]
  },
  {
   "cell_type": "code",
   "execution_count": 95,
   "metadata": {},
   "outputs": [],
   "source": [
    "df['game_date'] = df['game_date'].apply(lambda x: fecha_formato(x))"
   ]
  },
  {
   "cell_type": "code",
   "execution_count": 96,
   "metadata": {},
   "outputs": [],
   "source": [
    "df['game_datetime'] = df['game_datetime'].apply(lambda x: fecha_datetime(x))"
   ]
  },
  {
   "cell_type": "code",
   "execution_count": 97,
   "metadata": {},
   "outputs": [],
   "source": [
    "df = pd.merge(df, games[['GAME_DATE', 'TEAM_NAME', 'MATCHUP']], left_on=['game_date', 'team_name'], right_on=['GAME_DATE', 'TEAM_NAME'])"
   ]
  },
  {
   "cell_type": "code",
   "execution_count": 98,
   "metadata": {},
   "outputs": [],
   "source": [
    "def casa_visitante(partido):\n",
    "    if re.search(r'\\b vs. \\b', partido):\n",
    "        casa = 1\n",
    "    if re.search(r'\\b @ \\b', partido):\n",
    "        casa = 0\n",
    "    return casa"
   ]
  },
  {
   "cell_type": "code",
   "execution_count": 99,
   "metadata": {},
   "outputs": [],
   "source": [
    "def regular_playoff(datetime):\n",
    "    if (datetime >= regular_start) & (datetime <= regular_end):\n",
    "        playoff = 0\n",
    "    if (datetime >= playoff_start) & (datetime <= playoff_end):\n",
    "        playoff = 1\n",
    "    return playoff"
   ]
  },
  {
   "cell_type": "code",
   "execution_count": 100,
   "metadata": {},
   "outputs": [],
   "source": [
    "df['home_game'] = df['MATCHUP'].apply(lambda x: casa_visitante(x))"
   ]
  },
  {
   "cell_type": "code",
   "execution_count": 101,
   "metadata": {},
   "outputs": [],
   "source": [
    "df['playoff'] = df['game_datetime'].apply(lambda x: regular_playoff(x))"
   ]
  },
  {
   "cell_type": "code",
   "execution_count": 102,
   "metadata": {},
   "outputs": [
    {
     "data": {
      "text/plain": [
       "(160691, 40)"
      ]
     },
     "execution_count": 102,
     "metadata": {},
     "output_type": "execute_result"
    }
   ],
   "source": [
    "df.shape"
   ]
  },
  {
   "cell_type": "code",
   "execution_count": 103,
   "metadata": {},
   "outputs": [
    {
     "data": {
      "text/plain": [
       "Index(['name', 'team_name', 'game_date', 'team_id', 'period', 'shot_made_flag',\n",
       "       'action_type', 'shot_type', 'shot_distance', 'opponent', 'x', 'y',\n",
       "       'dribbles', 'touch_time', 'defender_name', 'defender_distance',\n",
       "       'shot_clock', 'time_remaining', 'HEIGHT_PLAYER', 'WEIGHT_PLAYER',\n",
       "       'SEASON_EXP_PLAYER', 'POSITION_PLAYER', 'AGE_PLAYER', 'HEIGHT_DEFENDER',\n",
       "       'WEIGHT_DEFENDER', 'SEASON_EXP_DEFENDER', 'POSITION_DEFENDER',\n",
       "       'AGE_DEFENDER', 'home_game', 'playoff', 'game_datetime', 'GAME_DATE_x',\n",
       "       'TEAM_NAME_x', 'MATCHUP_x', 'GAME_DATE_y', 'TEAM_NAME_y', 'MATCHUP_y',\n",
       "       'GAME_DATE', 'TEAM_NAME', 'MATCHUP'],\n",
       "      dtype='object')"
      ]
     },
     "execution_count": 103,
     "metadata": {},
     "output_type": "execute_result"
    }
   ],
   "source": [
    "df.columns"
   ]
  },
  {
   "cell_type": "code",
   "execution_count": 104,
   "metadata": {},
   "outputs": [],
   "source": [
    "df.drop(['game_date', 'game_datetime', 'GAME_DATE', 'TEAM_NAME', 'MATCHUP'], axis=1, inplace=True)"
   ]
  },
  {
   "cell_type": "markdown",
   "metadata": {},
   "source": [
    "### 4.3 Información de los equipos"
   ]
  },
  {
   "cell_type": "code",
   "execution_count": 105,
   "metadata": {},
   "outputs": [
    {
     "data": {
      "text/html": [
       "<div>\n",
       "<style scoped>\n",
       "    .dataframe tbody tr th:only-of-type {\n",
       "        vertical-align: middle;\n",
       "    }\n",
       "\n",
       "    .dataframe tbody tr th {\n",
       "        vertical-align: top;\n",
       "    }\n",
       "\n",
       "    .dataframe thead th {\n",
       "        text-align: right;\n",
       "    }\n",
       "</style>\n",
       "<table border=\"1\" class=\"dataframe\">\n",
       "  <thead>\n",
       "    <tr style=\"text-align: right;\">\n",
       "      <th></th>\n",
       "      <th>abbreviation</th>\n",
       "      <th>city</th>\n",
       "      <th>full_name</th>\n",
       "      <th>id</th>\n",
       "      <th>nickname</th>\n",
       "      <th>state</th>\n",
       "      <th>year_founded</th>\n",
       "    </tr>\n",
       "  </thead>\n",
       "  <tbody>\n",
       "    <tr>\n",
       "      <th>0</th>\n",
       "      <td>ATL</td>\n",
       "      <td>Atlanta</td>\n",
       "      <td>Atlanta Hawks</td>\n",
       "      <td>1610612737</td>\n",
       "      <td>Hawks</td>\n",
       "      <td>Atlanta</td>\n",
       "      <td>1949</td>\n",
       "    </tr>\n",
       "    <tr>\n",
       "      <th>1</th>\n",
       "      <td>BOS</td>\n",
       "      <td>Boston</td>\n",
       "      <td>Boston Celtics</td>\n",
       "      <td>1610612738</td>\n",
       "      <td>Celtics</td>\n",
       "      <td>Massachusetts</td>\n",
       "      <td>1946</td>\n",
       "    </tr>\n",
       "    <tr>\n",
       "      <th>2</th>\n",
       "      <td>CLE</td>\n",
       "      <td>Cleveland</td>\n",
       "      <td>Cleveland Cavaliers</td>\n",
       "      <td>1610612739</td>\n",
       "      <td>Cavaliers</td>\n",
       "      <td>Ohio</td>\n",
       "      <td>1970</td>\n",
       "    </tr>\n",
       "    <tr>\n",
       "      <th>3</th>\n",
       "      <td>NOP</td>\n",
       "      <td>New Orleans</td>\n",
       "      <td>New Orleans Pelicans</td>\n",
       "      <td>1610612740</td>\n",
       "      <td>Pelicans</td>\n",
       "      <td>Louisiana</td>\n",
       "      <td>2002</td>\n",
       "    </tr>\n",
       "    <tr>\n",
       "      <th>4</th>\n",
       "      <td>CHI</td>\n",
       "      <td>Chicago</td>\n",
       "      <td>Chicago Bulls</td>\n",
       "      <td>1610612741</td>\n",
       "      <td>Bulls</td>\n",
       "      <td>Illinois</td>\n",
       "      <td>1966</td>\n",
       "    </tr>\n",
       "  </tbody>\n",
       "</table>\n",
       "</div>"
      ],
      "text/plain": [
       "  abbreviation         city             full_name          id   nickname  \\\n",
       "0          ATL      Atlanta         Atlanta Hawks  1610612737      Hawks   \n",
       "1          BOS       Boston        Boston Celtics  1610612738    Celtics   \n",
       "2          CLE    Cleveland   Cleveland Cavaliers  1610612739  Cavaliers   \n",
       "3          NOP  New Orleans  New Orleans Pelicans  1610612740   Pelicans   \n",
       "4          CHI      Chicago         Chicago Bulls  1610612741      Bulls   \n",
       "\n",
       "           state  year_founded  \n",
       "0        Atlanta          1949  \n",
       "1  Massachusetts          1946  \n",
       "2           Ohio          1970  \n",
       "3      Louisiana          2002  \n",
       "4       Illinois          1966  "
      ]
     },
     "execution_count": 105,
     "metadata": {},
     "output_type": "execute_result"
    }
   ],
   "source": [
    "team = teams.get_teams()\n",
    "team = pd.DataFrame(team)\n",
    "team.head()"
   ]
  },
  {
   "cell_type": "code",
   "execution_count": 106,
   "metadata": {},
   "outputs": [],
   "source": [
    "team['team_player_shots'] = np.nan"
   ]
  },
  {
   "cell_type": "code",
   "execution_count": 107,
   "metadata": {},
   "outputs": [],
   "source": [
    "def tiros_hechos_equipos(team_id):\n",
    "    info_equipo = teamdashboardbyteamperformance.TeamDashboardByTeamPerformance(team_id = team_id,\n",
    "                                                                            season = '2013-14', \n",
    "                                                                            season_type_all_star = 'Regular Season')\n",
    "    info_equipo = info_equipo.get_data_frames()[0]\n",
    "    team_player_shots = info_equipo['FGM']/info_equipo['FGA']\n",
    "    return team_player_shots"
   ]
  },
  {
   "cell_type": "code",
   "execution_count": 108,
   "metadata": {},
   "outputs": [],
   "source": [
    "team['team_player_shots'] = team['id'].apply(lambda x: tiros_hechos_equipos(x))"
   ]
  },
  {
   "cell_type": "code",
   "execution_count": 109,
   "metadata": {},
   "outputs": [],
   "source": [
    "df = pd.merge(df, team[['id', 'team_player_shots']], left_on=['team_id'], right_on=['id'])"
   ]
  },
  {
   "cell_type": "code",
   "execution_count": 110,
   "metadata": {},
   "outputs": [],
   "source": [
    "df.drop(['id'], axis=1, inplace=True)"
   ]
  },
  {
   "cell_type": "markdown",
   "metadata": {},
   "source": [
    "## 5.0 Transformando las dummies"
   ]
  },
  {
   "cell_type": "markdown",
   "metadata": {},
   "source": [
    "### 5.1 Equipos"
   ]
  },
  {
   "cell_type": "code",
   "execution_count": 111,
   "metadata": {},
   "outputs": [],
   "source": [
    "team['team_player'] = team['abbreviation']"
   ]
  },
  {
   "cell_type": "code",
   "execution_count": 112,
   "metadata": {},
   "outputs": [],
   "source": [
    "team['team_defender'] = team['abbreviation']"
   ]
  },
  {
   "cell_type": "code",
   "execution_count": 113,
   "metadata": {},
   "outputs": [],
   "source": [
    "df = pd.merge(df, team[['team_player', 'full_name']], left_on=\"team_name\", right_on=\"full_name\")"
   ]
  },
  {
   "cell_type": "code",
   "execution_count": 114,
   "metadata": {},
   "outputs": [],
   "source": [
    "df = pd.merge(df, team[['team_defender', 'full_name']], left_on=\"opponent\", right_on=\"full_name\")"
   ]
  },
  {
   "cell_type": "code",
   "execution_count": 115,
   "metadata": {},
   "outputs": [
    {
     "data": {
      "text/plain": [
       "Index(['name', 'team_name', 'team_id', 'period', 'shot_made_flag',\n",
       "       'action_type', 'shot_type', 'shot_distance', 'opponent', 'x', 'y',\n",
       "       'dribbles', 'touch_time', 'defender_name', 'defender_distance',\n",
       "       'shot_clock', 'time_remaining', 'HEIGHT_PLAYER', 'WEIGHT_PLAYER',\n",
       "       'SEASON_EXP_PLAYER', 'POSITION_PLAYER', 'AGE_PLAYER', 'HEIGHT_DEFENDER',\n",
       "       'WEIGHT_DEFENDER', 'SEASON_EXP_DEFENDER', 'POSITION_DEFENDER',\n",
       "       'AGE_DEFENDER', 'home_game', 'playoff', 'GAME_DATE_x', 'TEAM_NAME_x',\n",
       "       'MATCHUP_x', 'GAME_DATE_y', 'TEAM_NAME_y', 'MATCHUP_y',\n",
       "       'team_player_shots', 'team_player', 'full_name_x', 'team_defender',\n",
       "       'full_name_y'],\n",
       "      dtype='object')"
      ]
     },
     "execution_count": 115,
     "metadata": {},
     "output_type": "execute_result"
    }
   ],
   "source": [
    "df.columns"
   ]
  },
  {
   "cell_type": "code",
   "execution_count": 116,
   "metadata": {},
   "outputs": [],
   "source": [
    "df.drop(['full_name_x', 'full_name_y', 'team_name', 'team_id', 'opponent'], axis=1, inplace=True)"
   ]
  },
  {
   "cell_type": "code",
   "execution_count": 117,
   "metadata": {},
   "outputs": [],
   "source": [
    "#pd.get_dummies(df, prefix = 'team', columns = 'team_player', drop_first = True)\n",
    "#pd.get_dummies(df, prefix = 'team', columns = 'team_defender', drop_first = True)"
   ]
  },
  {
   "cell_type": "code",
   "execution_count": 118,
   "metadata": {},
   "outputs": [],
   "source": [
    "#df.drop(['abbreviation'], axis=1, inplace=True)"
   ]
  },
  {
   "cell_type": "markdown",
   "metadata": {},
   "source": [
    "### 5.2 Estilos de tiro"
   ]
  },
  {
   "cell_type": "code",
   "execution_count": 119,
   "metadata": {},
   "outputs": [],
   "source": [
    "#Según la NBA se puede sumarizar los 50 estilos de tiro en 9 grandes grupos:\n",
    "#  Alley Oop, Bank, Dunk, Fadeaway, Finger Roll, Hook, Jump, Layup, Tip\n",
    "#Vamos a crear dummies con estos grupos y rellenarlos"
   ]
  },
  {
   "cell_type": "code",
   "execution_count": 120,
   "metadata": {},
   "outputs": [],
   "source": [
    "estilos_de_tiro = {'alley':'alley', \n",
    "                   'bank':'bank', \n",
    "                   'dunk':'dunk', \n",
    "                   'fadeaway':'fadeaway', \n",
    "                   'finger':'finger',\n",
    "                   'hook':'hook',\n",
    "                   'jump':'jump',\n",
    "                   'layup':'layup',\n",
    "                   'tip':'tip'}"
   ]
  },
  {
   "cell_type": "code",
   "execution_count": 121,
   "metadata": {},
   "outputs": [],
   "source": [
    "def create_dummies(dic, tp, col):\n",
    "    for key, value in dic.items():\n",
    "        if type(value) == list:\n",
    "            words = ''\n",
    "            for x in value:\n",
    "                words += str(x) + '|'\n",
    "            words = words[:-1]\n",
    "            pattern = r'(' + str(words) +')'\n",
    "        else:\n",
    "            pattern = r'(' + str(value) +')'\n",
    "        \n",
    "        regex = re.compile(pattern, flags= re.IGNORECASE)\n",
    "        exec('df[\"'+tp+'_'+key+'\"] = df[\"'+col+'\"].str.extract(regex, expand = True)')\n",
    "        exec('df[\"'+tp+'_'+key+'\"] = df[\"'+tp+'_'+key+'\"].where(df[\"'+tp+'_'+key+'\"].isnull(), 1).fillna(0).astype(int)')"
   ]
  },
  {
   "cell_type": "code",
   "execution_count": 122,
   "metadata": {},
   "outputs": [
    {
     "data": {
      "text/plain": [
       "Index(['name', 'period', 'shot_made_flag', 'action_type', 'shot_type',\n",
       "       'shot_distance', 'x', 'y', 'dribbles', 'touch_time', 'defender_name',\n",
       "       'defender_distance', 'shot_clock', 'time_remaining', 'HEIGHT_PLAYER',\n",
       "       'WEIGHT_PLAYER', 'SEASON_EXP_PLAYER', 'POSITION_PLAYER', 'AGE_PLAYER',\n",
       "       'HEIGHT_DEFENDER', 'WEIGHT_DEFENDER', 'SEASON_EXP_DEFENDER',\n",
       "       'POSITION_DEFENDER', 'AGE_DEFENDER', 'home_game', 'playoff',\n",
       "       'GAME_DATE_x', 'TEAM_NAME_x', 'MATCHUP_x', 'GAME_DATE_y', 'TEAM_NAME_y',\n",
       "       'MATCHUP_y', 'team_player_shots', 'team_player', 'team_defender'],\n",
       "      dtype='object')"
      ]
     },
     "execution_count": 122,
     "metadata": {},
     "output_type": "execute_result"
    }
   ],
   "source": [
    "df.columns"
   ]
  },
  {
   "cell_type": "code",
   "execution_count": 123,
   "metadata": {},
   "outputs": [],
   "source": [
    "create_dummies(estilos_de_tiro, 'shot_type', 'action_type')"
   ]
  },
  {
   "cell_type": "code",
   "execution_count": 124,
   "metadata": {},
   "outputs": [
    {
     "data": {
      "text/plain": [
       "Index(['name', 'period', 'shot_made_flag', 'action_type', 'shot_type',\n",
       "       'shot_distance', 'x', 'y', 'dribbles', 'touch_time', 'defender_name',\n",
       "       'defender_distance', 'shot_clock', 'time_remaining', 'HEIGHT_PLAYER',\n",
       "       'WEIGHT_PLAYER', 'SEASON_EXP_PLAYER', 'POSITION_PLAYER', 'AGE_PLAYER',\n",
       "       'HEIGHT_DEFENDER', 'WEIGHT_DEFENDER', 'SEASON_EXP_DEFENDER',\n",
       "       'POSITION_DEFENDER', 'AGE_DEFENDER', 'home_game', 'playoff',\n",
       "       'GAME_DATE_x', 'TEAM_NAME_x', 'MATCHUP_x', 'GAME_DATE_y', 'TEAM_NAME_y',\n",
       "       'MATCHUP_y', 'team_player_shots', 'team_player', 'team_defender',\n",
       "       'shot_type_alley', 'shot_type_bank', 'shot_type_dunk',\n",
       "       'shot_type_fadeaway', 'shot_type_finger', 'shot_type_hook',\n",
       "       'shot_type_jump', 'shot_type_layup', 'shot_type_tip'],\n",
       "      dtype='object')"
      ]
     },
     "execution_count": 124,
     "metadata": {},
     "output_type": "execute_result"
    }
   ],
   "source": [
    "df.columns"
   ]
  },
  {
   "cell_type": "code",
   "execution_count": 125,
   "metadata": {},
   "outputs": [
    {
     "name": "stdout",
     "output_type": "stream",
     "text": [
      "0    159009\n",
      "1      1682\n",
      "Name: shot_type_alley, dtype: int64 \n",
      "\n",
      "0    157677\n",
      "1      3014\n",
      "Name: shot_type_bank, dtype: int64 \n",
      "\n",
      "0    153106\n",
      "1      7585\n",
      "Name: shot_type_dunk, dtype: int64 \n",
      "\n",
      "0    157488\n",
      "1      3203\n",
      "Name: shot_type_fadeaway, dtype: int64 \n",
      "\n",
      "0    159149\n",
      "1      1542\n",
      "Name: shot_type_finger, dtype: int64 \n",
      "\n",
      "0    154265\n",
      "1      6426\n",
      "Name: shot_type_hook, dtype: int64 \n",
      "\n",
      "1    105765\n",
      "0     54926\n",
      "Name: shot_type_jump, dtype: int64 \n",
      "\n",
      "0    124481\n",
      "1     36210\n",
      "Name: shot_type_layup, dtype: int64 \n",
      "\n",
      "0    157313\n",
      "1      3378\n",
      "Name: shot_type_tip, dtype: int64 \n",
      "\n"
     ]
    }
   ],
   "source": [
    "print (df.shot_type_alley.value_counts(), '\\n')\n",
    "print (df.shot_type_bank.value_counts(), '\\n')\n",
    "print (df.shot_type_dunk.value_counts(), '\\n')\n",
    "print (df.shot_type_fadeaway.value_counts(), '\\n')\n",
    "print (df.shot_type_finger.value_counts(), '\\n')\n",
    "print (df.shot_type_hook.value_counts(), '\\n')\n",
    "print (df.shot_type_jump.value_counts(), '\\n')\n",
    "print (df.shot_type_layup.value_counts(), '\\n')\n",
    "print (df.shot_type_tip.value_counts(), '\\n')"
   ]
  },
  {
   "cell_type": "code",
   "execution_count": 126,
   "metadata": {},
   "outputs": [],
   "source": [
    "df.drop(['action_type'], axis=1, inplace=True)"
   ]
  },
  {
   "cell_type": "code",
   "execution_count": 127,
   "metadata": {},
   "outputs": [
    {
     "data": {
      "text/plain": [
       "Index(['name', 'period', 'shot_made_flag', 'shot_type', 'shot_distance', 'x',\n",
       "       'y', 'dribbles', 'touch_time', 'defender_name', 'defender_distance',\n",
       "       'shot_clock', 'time_remaining', 'HEIGHT_PLAYER', 'WEIGHT_PLAYER',\n",
       "       'SEASON_EXP_PLAYER', 'POSITION_PLAYER', 'AGE_PLAYER', 'HEIGHT_DEFENDER',\n",
       "       'WEIGHT_DEFENDER', 'SEASON_EXP_DEFENDER', 'POSITION_DEFENDER',\n",
       "       'AGE_DEFENDER', 'home_game', 'playoff', 'GAME_DATE_x', 'TEAM_NAME_x',\n",
       "       'MATCHUP_x', 'GAME_DATE_y', 'TEAM_NAME_y', 'MATCHUP_y',\n",
       "       'team_player_shots', 'team_player', 'team_defender', 'shot_type_alley',\n",
       "       'shot_type_bank', 'shot_type_dunk', 'shot_type_fadeaway',\n",
       "       'shot_type_finger', 'shot_type_hook', 'shot_type_jump',\n",
       "       'shot_type_layup', 'shot_type_tip'],\n",
       "      dtype='object')"
      ]
     },
     "execution_count": 127,
     "metadata": {},
     "output_type": "execute_result"
    }
   ],
   "source": [
    "df.columns"
   ]
  },
  {
   "cell_type": "code",
   "execution_count": 128,
   "metadata": {},
   "outputs": [
    {
     "data": {
      "text/plain": [
       "(160691, 43)"
      ]
     },
     "execution_count": 128,
     "metadata": {},
     "output_type": "execute_result"
    }
   ],
   "source": [
    "df.shape"
   ]
  },
  {
   "cell_type": "code",
   "execution_count": 129,
   "metadata": {},
   "outputs": [],
   "source": [
    "# No se dropea la primera columna, porque un mismo tiro puede tener más de un estilo"
   ]
  },
  {
   "cell_type": "markdown",
   "metadata": {},
   "source": [
    "### 5.3 Puntos por tiro"
   ]
  },
  {
   "cell_type": "code",
   "execution_count": 130,
   "metadata": {},
   "outputs": [
    {
     "data": {
      "text/plain": [
       "2PT Field Goal    117502\n",
       "3PT Field Goal     43189\n",
       "Name: shot_type, dtype: int64"
      ]
     },
     "execution_count": 130,
     "metadata": {},
     "output_type": "execute_result"
    }
   ],
   "source": [
    "df.shot_type.value_counts()"
   ]
  },
  {
   "cell_type": "code",
   "execution_count": 131,
   "metadata": {},
   "outputs": [],
   "source": [
    "df['shot_3pts'] = np.nan"
   ]
  },
  {
   "cell_type": "code",
   "execution_count": 132,
   "metadata": {},
   "outputs": [],
   "source": [
    "df.loc[(df['shot_type'] == '2PT Field Goal'), 'shot_3pts'] = int(0)\n",
    "df.loc[(df['shot_type'] == '3PT Field Goal'), 'shot_3pts'] = int(1)"
   ]
  },
  {
   "cell_type": "code",
   "execution_count": 133,
   "metadata": {},
   "outputs": [
    {
     "data": {
      "text/plain": [
       "0.0    117502\n",
       "1.0     43189\n",
       "Name: shot_3pts, dtype: int64"
      ]
     },
     "execution_count": 133,
     "metadata": {},
     "output_type": "execute_result"
    }
   ],
   "source": [
    "df.shot_3pts.value_counts(dropna = False)"
   ]
  },
  {
   "cell_type": "code",
   "execution_count": 134,
   "metadata": {},
   "outputs": [],
   "source": [
    "df.drop(['shot_type'], axis=1, inplace=True)"
   ]
  },
  {
   "cell_type": "markdown",
   "metadata": {},
   "source": [
    "## 6.0 Finalizando el dataset"
   ]
  },
  {
   "cell_type": "markdown",
   "metadata": {},
   "source": [
    "### 6.1 Limpiando columnas y lineas"
   ]
  },
  {
   "cell_type": "code",
   "execution_count": 135,
   "metadata": {},
   "outputs": [],
   "source": [
    "df.drop(['name', 'defender_name', 'team_player', 'team_defender', 'touch_time'], axis=1, inplace=True)"
   ]
  },
  {
   "cell_type": "code",
   "execution_count": 136,
   "metadata": {},
   "outputs": [],
   "source": [
    "df.drop_duplicates(inplace=True)"
   ]
  },
  {
   "cell_type": "markdown",
   "metadata": {},
   "source": [
    "### 6.2 Last check"
   ]
  },
  {
   "cell_type": "code",
   "execution_count": 137,
   "metadata": {},
   "outputs": [
    {
     "data": {
      "text/plain": [
       "(160664, 38)"
      ]
     },
     "execution_count": 137,
     "metadata": {},
     "output_type": "execute_result"
    }
   ],
   "source": [
    "df.shape"
   ]
  },
  {
   "cell_type": "code",
   "execution_count": 138,
   "metadata": {},
   "outputs": [
    {
     "data": {
      "text/plain": [
       "period                 0\n",
       "shot_made_flag         0\n",
       "shot_distance          0\n",
       "x                      0\n",
       "y                      0\n",
       "dribbles               0\n",
       "defender_distance      0\n",
       "shot_clock             0\n",
       "time_remaining         0\n",
       "HEIGHT_PLAYER          0\n",
       "WEIGHT_PLAYER          0\n",
       "SEASON_EXP_PLAYER      0\n",
       "POSITION_PLAYER        0\n",
       "AGE_PLAYER             0\n",
       "HEIGHT_DEFENDER        0\n",
       "WEIGHT_DEFENDER        0\n",
       "SEASON_EXP_DEFENDER    0\n",
       "POSITION_DEFENDER      0\n",
       "AGE_DEFENDER           0\n",
       "home_game              0\n",
       "playoff                0\n",
       "GAME_DATE_x            0\n",
       "TEAM_NAME_x            0\n",
       "MATCHUP_x              0\n",
       "GAME_DATE_y            0\n",
       "TEAM_NAME_y            0\n",
       "MATCHUP_y              0\n",
       "team_player_shots      0\n",
       "shot_type_alley        0\n",
       "shot_type_bank         0\n",
       "shot_type_dunk         0\n",
       "shot_type_fadeaway     0\n",
       "shot_type_finger       0\n",
       "shot_type_hook         0\n",
       "shot_type_jump         0\n",
       "shot_type_layup        0\n",
       "shot_type_tip          0\n",
       "shot_3pts              0\n",
       "dtype: int64"
      ]
     },
     "execution_count": 138,
     "metadata": {},
     "output_type": "execute_result"
    }
   ],
   "source": [
    "df.isnull().sum()"
   ]
  },
  {
   "cell_type": "code",
   "execution_count": 139,
   "metadata": {},
   "outputs": [
    {
     "data": {
      "text/plain": [
       "<matplotlib.axes._subplots.AxesSubplot at 0x1a1c3731d0>"
      ]
     },
     "execution_count": 139,
     "metadata": {},
     "output_type": "execute_result"
    },
    {
     "data": {
      "image/png": "[encoded data removed]",
      "text/plain": [
       "<Figure size 432x288 with 2 Axes>"
      ]
     },
     "metadata": {
      "needs_background": "light"
     },
     "output_type": "display_data"
    }
   ],
   "source": [
    "sns.heatmap(df.corr(),  center=0, cmap='bwr', annot=False, linewidths=.5, fmt='.1f')"
   ]
  },
  {
   "cell_type": "code",
   "execution_count": null,
   "metadata": {},
   "outputs": [],
   "source": [
    "# Generando un profiling report en HTML\n",
    "profile = pandas_profiling.ProfileReport(df)\n",
    "profile.to_file(outputfile=\"NBA dataset final.html\")"
   ]
  },
  {
   "cell_type": "markdown",
   "metadata": {},
   "source": [
    "### 6.3 Exportando el dataset a un nuevo CSV"
   ]
  },
  {
   "cell_type": "code",
   "execution_count": 112,
   "metadata": {},
   "outputs": [],
   "source": [
    "df.to_csv(r'nba_final.csv', index = False)"
   ]
  },
  {
   "cell_type": "markdown",
   "metadata": {},
   "source": [
    "# FIN."
   ]
  },
  {
   "cell_type": "code",
   "execution_count": null,
   "metadata": {},
   "outputs": [],
   "source": []
  }
 ],
 "metadata": {
  "kernelspec": {
   "display_name": "Python 3",
   "language": "python",
   "name": "python3"
  },
  "language_info": {
   "codemirror_mode": {
    "name": "ipython",
    "version": 3
   },
   "file_extension": ".py",
   "mimetype": "text/x-python",
   "name": "python",
   "nbconvert_exporter": "python",
   "pygments_lexer": "ipython3",
   "version": "3.7.1"
  }
 },
 "nbformat": 4,
 "nbformat_minor": 2
}
